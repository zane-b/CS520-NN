{
 "cells": [
  {
   "cell_type": "markdown",
   "metadata": {
    "id": "tsjKPQLIrnRd"
   },
   "source": [
    "# Problem Set 2 - Zane Bayer - CSCI520 - 3/29/2022"
   ]
  },
  {
   "cell_type": "markdown",
   "metadata": {
    "id": "eZ2O6dcMr1tm"
   },
   "source": [
    "## *Learning From Data*"
   ]
  },
  {
   "cell_type": "markdown",
   "metadata": {
    "id": "JTgI2PWXr_cW"
   },
   "source": [
    "\n",
    "### EX. 3.1 \n",
    "\n",
    "### No, the stopping criteria for the PLA is that no points are misclassified. While there are points misclassified (which there always will be when the data is not linearly separable), there is always a point for the pla to pick and update the weights with."
   ]
  },
  {
   "cell_type": "markdown",
   "metadata": {
    "id": "620-mpN3sqjI"
   },
   "source": [
    "### Ex. 3.7\n",
    "\n",
    "### the in-sample error, $E_{in}(\\vec{w})$, is given by\n",
    "### <center>$E_{in}(\\vec{w})=\\frac{1}{N}\\sum_{n=1}^N ln(1+e^{-y_n\\vec{w}^T\\vec{x}_n})$</center> \n",
    "### The gradient of $E_{in}(\\vec{w})$ with respect to the weight vector $\\vec{w}$ is \n",
    "\n",
    "### <center>$∇E_{in}(\\vec{w})=\\frac{∂}{∂\\vec{w}}[\\frac{1}{N}\\sum_{n=1}^N ln(1+e^{-y_n\\vec{w}^T\\vec{x}_n})]$</center>\n",
    "### <center>$=\\frac{1}{N}\\sum_{n=1}^N (\\frac{1}{1+e^{-y_n\\vec{w}^T\\vec{x}_n}})[\\frac{∂}{∂\\vec{w}}(1+e^{-y_n\\vec{w}^T\\vec{x}_n})$]</center>\n",
    "\n",
    "### <center>$=\\frac{1}{N}\\sum_{n=1}^{N}\\frac{-y_n\\vec{x}_ne^{-y_n\\vec{w}^T\\vec{x}_n}}{1+e^{-y_n\\vec{w}^T\\vec{x}_n}} $</center>\n",
    "\n",
    "### <center>$=-\\frac{1}{N}\\sum_{n=1}^{N}\\frac{y_n\\vec{x}_n}{1+e^{y_n\\vec{w}^T\\vec{x}_n} }$</center>\n",
    "\n",
    "### <center>$=\\frac{1}{N}\\sum_{n=1}^{N}-y_n\\vec{x}_n\\theta(-y_n\\vec{w}^T\\vec{x}_n)$</center>\n",
    "\n",
    "### where $\\theta(x)$ is the sigmoid function. \n",
    "### From the last problem set, we know how the product $-y_n\\vec{w}^T\\vec{x}_n$ behaves when $\\vec{x}$ is classified correcly and incorrectly. That is, when $\\vec{x}$ is correctly labeled, then $-y_n\\vec{w}^T\\vec{x}_n>0$ and when $\\vec{x}$ is mislabeled, then $-y_n\\vec{w}^T\\vec{x}_n<0$. The sigmoid function $\\theta(x)$ is greater than $\\frac{1}{2}$ for $x>0$ and less than $\\frac{1}{2}$ for $x<0$. So, for a misclassified point, the argument will be positive and thus greater than $\\frac{1}{2}$, while a correctly labeled point will have a negative argument and produce a value less than $\\frac{1}{2}$. So, misclassified points produce larger values in the sum compared to correcly classified points, thus contributes more to the gradient."
   ]
  },
  {
   "cell_type": "markdown",
   "metadata": {
    "id": "Oll9KcjO6p00"
   },
   "source": [
    "### EX. 3.8\n",
    "\n",
    "### The derivation of $\\hat{v}$ relied on expanding $E_{in}$ as a Taylor series. In doing so, we assumed that we could ignore the higher order terms $O(η^2)$ due to their trivial size. However, this only holds when $η<<1$. For larger $\\eta$, we can not ignore the higher order terms and garuntee that $\\hat{v}$ points in the direction of largest decrease."
   ]
  },
  {
   "cell_type": "markdown",
   "metadata": {
    "id": "MmEgumUd9Rvo"
   },
   "source": [
    "### EX. 3.9\n",
    "\n"
   ]
  },
  {
   "cell_type": "code",
   "execution_count": 1,
   "metadata": {
    "colab": {
     "base_uri": "https://localhost:8080/",
     "height": 286
    },
    "id": "bjo30_KTAnp8",
    "outputId": "88e21a44-3303-4687-fa49-8deb0dd8ee79"
   },
   "outputs": [
    {
     "data": {
      "text/plain": [
       "(0.0, 3.0)"
      ]
     },
     "execution_count": 1,
     "metadata": {},
     "output_type": "execute_result"
    },
    {
     "data": {
      "image/png": "[encoded data removed]",
      "text/plain": [
       "<Figure size 432x288 with 1 Axes>"
      ]
     },
     "metadata": {
      "needs_background": "light"
     },
     "output_type": "display_data"
    }
   ],
   "source": [
    "#a\n",
    "\n",
    "#The classification, sum of squares, and logistic error functions for true value of y=1 \n",
    "\n",
    "import numpy as np\n",
    "import matplotlib.pyplot as plt\n",
    "\n",
    "y=1\n",
    "eClass= lambda s: y != np.sign(s)\n",
    "eSq= lambda s: (y-s)**2\n",
    "eLog= lambda s: np.log(1+np.exp(-y*s))\n",
    "\n",
    "x=np.linspace(-5,5,100)\n",
    "\n",
    "classVals=eClass(x)\n",
    "sqVals=eSq(x)\n",
    "logVals=(1/np.log(2))*eLog(x)\n",
    "\n",
    "plt.plot(x,classVals,label='e classification')\n",
    "plt.plot(x,sqVals,label='e square')\n",
    "plt.plot(x,logVals,label='e logistic')\n",
    "plt.legend()\n",
    "plt.ylim(0,3)"
   ]
  },
  {
   "cell_type": "markdown",
   "metadata": {
    "id": "TS6LUridEvAD"
   },
   "source": [
    "### b. It's clear from the plot that $e_{class}≤e_{sq}$, but it can be shown analytically as well. \n",
    "\n",
    "### For y=1:\n",
    "### For $s<0$, we have $e_{class}=1$ and $e_{sq}=(1-s)^2$. Since $s<0$, then $e_{sq}=(1+s)^2$ which clearly satifies $1\\le(1+s)^2$ for all values $s<0$.\n",
    "\n",
    "### For $s\\ge0$, we have $e_{class}=0$ and $e_{sq}=(1-s)^2$. Clearly, $e_{sq}>0$ for all points except s=1 where $e_{sq}=0$. So, we have $(1-s)^2\\ge0$ and since $e_{class}=0$ in this region, it follows that $(1-s)^2\\ge e_{class}$.\n",
    "\n",
    "\n",
    "### For y=-1:\n",
    "### For s<0, we have $e_{class}=0$ and $e_{sq}=(-1-s)^2$. Clearly, $e_{sq}>0$ for all points except s=-1 where $e_{sq}=0$. We have a similar set of conditions as the case for $s\\ge0$ and $y=1$. We can conclude that $(-1-s)^2\\ge0$, thus  $(-1-s)^2\\ge e_{class}$.\n",
    "\n",
    "### For $s\\ge0$, we have $e_{class}=1$ and $e_{sq}=(-1-s)^2$. For all positive values, clearly -1-s<-1, so $(-1-s)^2>1$. Where s=0, $e_{class}=e_{sq}=1$, so in all, we have $(-1-s)^2\\ge e_{class}$.\n",
    "\n",
    "### The above shows that $e_{sq} \\ge e_{class}$ for all pairs of values (s,y).\n",
    "\n",
    "### <br/>\n",
    "### c. See below for comparison in all cases of pairs (s,y).\n",
    "\n",
    "### For y=1:\n",
    "### For s<0, we have $e_{class}=1$ and $e_{log}=\\frac{1}{log(2)}log(1+e^{-s})$. $e_{log} → ∞$  as $s→ -∞$, and in this region has a minimum as $s → 0^- $ of 1. So, we have $e_{log}>1$ and therefore $e_{log}>e_{class}$.\n",
    "\n",
    "### For $s\\ge0$, we have  $eclass=0$  and  $e_{log}=\\frac{1}{log(2)}log(1+e^{-s})$. $e_{log}$ is bouned above 1 and below by zero since $e^{-s}>0$ for all s, so $log(1+e^{-s})>0$. So, we get $e_{log}\\ge e_{class}$.\n",
    "\n",
    "### For y=-1:\n",
    "### s<0, we have $e_{class}=0$ and $e_{log}=\\frac{1}{log(2)}log(1+e^{s})$. $e_{log} → 0$  as $s→ -∞$, but is always greater than zero since $1+e^{-s}>0$, so therefore we get $e_{log}>0$ and $e_{log}>e_{class}$.\n",
    "\n",
    "\n",
    "### For $s\\ge 0$, we have $e_{class}=0$ and $e_{log}=\\frac{1}{log(2)}log(1+e^{s})$. $e_{log}→ ∞$ as $s→ ∞$ and is bounded below at s=0 where $e_{log}=1$. Since $e_{log}$ only has positive slope in this region, we can simply conclude that $e_{log}\\ge 1$ and therefore $e_{log}\\ge e_{class}$.\n",
    "\n",
    "### The above shows that $\\frac{1}{log(2)}e_{log} \\ge e_{class}$ for all pairs (s,y)."
   ]
  },
  {
   "cell_type": "markdown",
   "metadata": {
    "id": "-kLk75kPTmt1"
   },
   "source": [
    "## *Pattern Recognition and Machine Learning*\n"
   ]
  },
  {
   "cell_type": "markdown",
   "metadata": {
    "id": "99zrAuvSU95u"
   },
   "source": [
    "### 2.43\n",
    "\n",
    "### We are old that\n",
    "### <center>$p(x|\\sigma ^2,q)=\\frac{q}{2(2\\sigma ^2)^{1/q}\\Gamma(\\frac{1}{q})}exp(-\\frac{|x|^q}{2\\sigma ^2})$</center>\n",
    "### The above implies that $p(x|\\sigma ^2,q)$ is centered at zero, so $\\mu=0$. We can use of the symmetry about to simplify the integral. We wish to show \n",
    "### <center>$\\int_{-∞}^{∞}p(x|\\sigma ^2,q)dx=1$</center> \n",
    "### Since the exponential is the only term dependent on x, allow\n",
    "### <center>$c=\\frac{q}{2(2\\sigma ^2)^{1/q}\\Gamma(\\frac{1}{q})}$</center>\n",
    "### so that \n",
    "### <center>$\\int_{-∞}^{∞}p(x|\\sigma ^2,q)dx=c\\int_{-∞}^{∞}exp(-\\frac{|x|^q}{2\\sigma ^2})dx$</center> \n",
    "### Since the integral is symmetric about x=0\n",
    "### <center>$=2c\\int_{-∞}^{\\infty}exp(-\\frac{x^q}{2\\sigma^2})dx$</center>\n",
    "### Allow $u=\\frac{x^q}{2\\sigma^2}⇒\\frac{du}{dx}=q\\frac{x^{q-1}}{2\\sigma^2}⇒dx=\\frac{2\\sigma^2}{qx^{q-1}}du$, so we get\n",
    "### <center>$=2c\\int_{0}^{∞}exp(-u)(\\frac{2\\sigma^2}{qx^{q-1}}du)$</center>\n",
    "### $u=\\frac{x^q}{2\\sigma^2} ⇒ x=(2\\sigma^2u)^{1/q}$, so\n",
    "### <center>$=\\frac{4\\sigma ^2}{q}c\\int_{0}^{\\infty}exp(-u)[(2\\sigma^2u)^{1/q}]^{1-q}du$</center>\n",
    "### <center>$=\\frac{4\\sigma ^2}{q}c\\int_{0}^{\\infty}exp(-u)(2\\sigma^2u)^{1/q-1}du$</center> \n",
    "### <center>$=\\frac{4\\sigma ^2}{q}(2\\sigma^2)^{1/q-1}c\\int_{0}^{\\infty}exp(-u)u^{1/q-1}du$</center>\n",
    "### the gamma function is $Γ(x)=∫_{0}^{∞}u^{x-1}exp(-u)du$. Plugging this into the above gives\n",
    "### <center>$=\\frac{4\\sigma ^2}{q}(2\\sigma^2)^{1/q-1}cΓ(\\frac{1}{q})$</center>\n",
    "### Plugging back in for c gives the desired result\n",
    "### <center>$\\int_{-∞}^{∞}p(x|\\sigma ^2,q)dx=1$</center>\n",
    "\n",
    "</br>\n",
    "\n",
    "### Now it's simple to show that $p(x|\\sigma ^2,q)$ reduces to the usual Guassian distribution in the case of q=2.\n",
    "<center>$p(x|\\sigma ^2,2)=\\frac{2}{2\\sqrt{2\\sigma^2}\\Gamma(1/2)}exp(-\\frac{x^2}{2\\sigma^2})$</center>\n",
    "<center>$=\\frac{1}{\\sqrt{2\\sigma^2\\pi}}exp(-\\frac{x^2}{2\\sigma^2})$</center>\n",
    "\n",
    "### which defines the Guassian distribution centered about $\\mu=0$. \n",
    "\n",
    "</br>\n",
    "\n",
    "### We'll now consider the second half of the problem where we are told a random variable $ϵ $ is drawn from the probability distribution above and $ϵ=t_n-y(\\vec{x},\\vec{w})$ for a set of input vectors $X=\\{\\vec{x}_1,...,\\vec{x}_N\\}$ and targets $\\vec{t}=(\\vec{t}_1,...,\\vec{t}_N)^T$. The log liklihood over $\\vec{w}$ and $\\sigma^2$ is \n",
    "\n",
    "###<center>$\\sum_{n=1}^{N}ln[p((y(\\vec{x}_n,\\vec{w})-t)|\\sigma^2,q)]$</center>\n",
    "###<center>$=\\sum_{n=1}^{N}ln[\\frac{q}{2(2\\sigma ^2)^{1/q}\\Gamma(\\frac{1}{q})}exp(-\\frac{|y(\\vec{x}_n,\\vec{w})-t|^q}{2\\sigma ^2})]$</center>\n",
    "### <center>$=\\sum_{n=1}^{N}-\\frac{|y(\\vec{x}_n,\\vec{w})-t|^q}{2\\sigma ^2}+ln[\\frac{q}{2(2\\sigma ^2)^{1/q}\\Gamma(\\frac{1}{q})}]$</center>\n",
    "### <center>$=-\\frac{1}{2σ^2}∑_{n=1}^{N}|y(\\vec{x}_n,\\vec{w})-t|^q+Nln(\\frac{1}{(2\\sigma^2)^{1/q}})+const.$</center>\n",
    "###  <center>$=-\\frac{1}{2σ^2}∑_{n=1}^{N}|y(\\vec{x}_n,\\vec{w})-t|^q+\\frac{N}{q}ln(2\\sigma^2)+const.$</center>\n",
    "### which is the desired result."
   ]
  },
  {
   "cell_type": "markdown",
   "metadata": {
    "id": "E8UimkJ1HyaK"
   },
   "source": [
    "### 3.1\n",
    "\n",
    "### This can be done direclty. The hyperbolic tangent function is\n",
    "### <center>$tanh(a)=\\frac{e^a-e^{-a}}{e^a+e^{-a}}$</center>\n",
    "### and the sigmoid function is \n",
    "### <center>$\\sigma(a)=\\frac{1}{1+e^{-a}}$</center>\n",
    "### so\n",
    "### $2\\sigma(2a)-1=\\frac{2}{1+e^{-2a}}-1=\\frac{2}{1+e^{-2a}}-\\frac{1+e^{-2a}}{1+e^{-2a}}=\\frac{1-e^{-2a}}{1+e^{-2a}}=(\\frac{e^a}{e^a})(\\frac{1-e^{-2a}}{1+e^{-2a}})=\\frac{e^a-e^{-a}}{e^a+e^{-a}}=tanh(a)$\n",
    "\n",
    "</br>\n",
    "\n",
    "### To find the relationship between the coefficients $\\vec{u}$ and $\\vec{w}$, we simply replace $tanh(a)$ with $2\\sigma(2a)-1$ and solve. First, allow $a_j=\\frac{x-\\mu_j}{2s}$, then \n",
    "### <center>$y(\\vec{x},\\vec{w})=w_0+\\sum_{j=1}^{M}w_j\\sigma(\\frac{x-\\mu_j}{s})$</center>\n",
    "### <center>$=w_0+\\sum_{j=1}^{M}w_j\\sigma(2a)$</center>\n",
    "### <center>$=w_0+\\sum_{j=1}^{M}\\frac{w_j}{2}(2\\sigma(2a)-1+1)$</center>\n",
    "### then by the relation $tanh(a)=\\frac{e^a-e^{-a}}{e^a+e^{-a}}$, we get \n",
    "### <center>$=u_0+\\Sigma_{j=1}^{M}u_jtanh(a_j)$</center>\n",
    "### so comparing the two equations in the first and last lines, we see that the coefficients are related by $u_j=\\frac{w_j}{2}$ and $u_0=w_0+\\Sigma_{j=1}^M \\frac{w_j}{2}$."
   ]
  },
  {
   "cell_type": "markdown",
   "metadata": {
    "id": "HNlwYaUHV0Wj"
   },
   "source": [
    "### 3.2\n",
    "\n",
    "\n",
    "### The pseudo-inverse of a matrix A is $A^†=(A^TA)^{-1}A^T$. We can rewrite the given matrix as \n",
    "### <center>\\$\\Phi(\\Phi^T\\Phi)^{-1}\\Phi^T=\\Phi\\Phi^†$</center>\n",
    "\n",
    "### Suppose now that this matrix acts on a vector $\\hat{v}$,\n",
    "### <center>$\\Phi\\Phi^†\\hat{v}$</center>\n",
    "### Allow $\\vec{v}'=\\Phi^†\\vec{v}$, then by definition the linear transformation described by $\\Phi^†$ acting on $\\vec{v}$ projects $\\vec{v}$ onto the space spanned by the columns of $\\Phi^†$. By the same definition, the transformation described by\n",
    "###<center>$\\Phi\\Phi^†\\vec{v}=\\Phi\\vec{v}'$</center>\n",
    "### maps $\\vec{v}'$ from the space spanned by the columns of $Φ^†$ to the space spanned by the columns of $Φ$. So, in all, the matrix \n",
    "\n",
    "### <center>$\\Phi(\\Phi^T\\Phi)^{-1}\\Phi^T$</center>\n",
    "### projects any vector $\\vec{v}$ onto the space spanned by $\\Phi$.\n",
    "\n",
    "</br>\n",
    "\n",
    "### We'll now consider the second part of the exercise focused on the least-squares solution. Figure 3.2 is shown below.\n",
    "![image.png](data:image/png;base64,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)\n",
    "\n",
    "### the text, in sec. 3.1.2, tells us the sum of squares error is given by the squared euclidean distance between $\\vec{y}$ and $\\vec{t}$ and that $\\vec{y}=\\Phi\\vec{w}_{ML}$. Thus, we wish to show that the difference $(\\vec{y}-\\vec{t})$ is othogonal to the column space of $\\Phi$. This can be done directly.\n",
    "\n",
    "### <center>$(\\vec{y}-\\vec{t})\\Phi=(\\Phi w_{ML}-t)^T\\Phi$</center>\n",
    "### From eq. 3.15, $w_{ML}=\\Phi^†t$, we get \n",
    "### <center>$=(\\Phi \\Phi^† t-t)^T\\Phi$</center>\n",
    "### <center>$=t^T(\\Phi \\Phi^†-I)^T\\Phi$</center>\n",
    "### where  is the identity matrix.\n",
    "### <center>$=t^T(\\Phi \\Phi^† \\Phi-\\Phi)^T$</center>\n",
    "### by definiton $\\Phi^\\dagger \\Phi=I$, so\n",
    "### <center>$=t^T(\\Phi-\\Phi)^T=0$</center>\n",
    "### which shows that $(\\vec{y}-\\vec{t})$ is orthogonal to the column space of $\\Phi$."
   ]
  },
  {
   "cell_type": "markdown",
   "metadata": {
    "id": "Nh-Ara_ioHSI"
   },
   "source": [
    "### 4.1\n",
    "\n",
    "### We are told that we can define the convex hull of a set of pt.'s $\\{\\vec{x_n}\\}$ as \n",
    "### <center> $\\vec{x}=\\sum_n \\alpha_n\\vec{x}_n$\n",
    "\n",
    "###  where $\\alpha_n \\ge 0$ and $\\sum_n \\alpha =1$. We are also told that two sets, $\\{\\vec{x_n}\\}$ and $\\{\\vec{y_n}\\}$, will be linearly separable if there exists a vector $\\hat{w}$ and scalar $w_0$ such that $\\hat{w}^T\\vec{x}_n+w_0>0$ for all $\\vec{x}_n$ and $\\hat{w}^T\\vec{y}_n+w_0<0$ for all $\\vec{y}_n$. However, if the 2 sets are not linearly seperable, then there exists at least one pt. $\\vec{z}$ which lies in the intersection of the two convex hulls and satisfies \n",
    "### <center> $\\vec{z}=\\sum_n \\alpha_n\\vec{x}_n=\\sum_m \\beta_m\\vec{y}_m$\n",
    "### where $\\beta_m$ has the same properties as $\\alpha_n$. If the two sets are linearly seperable, then this pt. $\\vec{z}$ must also satisfy both $\\hat{w}^T\\vec{z}+w_0>0$ and $\\hat{w}^T\\vec{z}+w_0<0$ since it lies in the intersection of the two sets. Clearly, this is a contradiction which can never be satisfied. Therefore, if there exists a pt. $\\vec{z}$ satisfying \n",
    " \n",
    " ### <center>$\\vec{z}=\\sum_n \\alpha_n\\vec{x}_n=\\sum_m \\beta_m\\vec{y}_m$\n",
    " ### for two sets $\\{\\vec{x_n}\\}$ and $\\{\\vec{y_n}\\}$, then the two sets  $\\{\\vec{x_n}\\}$ and $\\{\\vec{y_n}\\}$ are not linearly separable. We now wish to show that if two sets are linearly separable, then their convex hulls do not intersect. If two sets  $\\{\\vec{x_n}\\}$ and $\\{\\vec{y_n}\\}$ are linearly seperable, then by definition there exists a vector $\\hat{w}$ and scalar $w_0$ such that $\\hat{w}^T\\vec{x}_n+w_0>0$ for all $\\vec{x}_n$ and $\\hat{w}^T\\vec{y}_n+w_0<0$ for all $\\vec{y}_n$. The plane defined by $\\vec{w}$ separates the two sets into 2 distinct halfplanes. Also, by the fact that  $\\hat{w}^T\\vec{x}_n+w_0>0$ for all $\\vec{x}_n$ and $\\hat{w}^T\\vec{y}_n+w_0<0$ for all $\\vec{y}_n$, it follows no pt. $\\vec{z}$ from either set satisfies $\\hat{w}^T\\vec{z}+w_0=0$. In other words, there are no pt.'s in either set that lie on the plane separate $\\{\\vec{x_n}\\}$ and $\\{\\vec{y_n}\\}$. The convex hulls are two subsets of $\\{\\vec{x_n}\\}$ and $\\{\\vec{y_n}\\}$ , so no pt.'s in the convex hulls can satisfy \n",
    " ### <center>$\\vec{z}=\\sum_n \\alpha_n\\vec{x}_n=\\sum_m \\beta_m\\vec{y}_m$\n",
    " ### Since no pt. $\\vec{z}$ satisfies the above, we can conclude that the convex hulls of $\\{\\vec{x_n}\\}$ and $\\{\\vec{y_n}\\}$ do not intersect."
   ]
  },
  {
   "cell_type": "markdown",
   "metadata": {
    "id": "_zZr-UFIoLId"
   },
   "source": [
    "### 4.7  \n",
    "\n",
    "### The sigmoid function is $\\sigma(x)=\\frac{1}{1+e^{-x}}$. the property can shown directly. \n",
    "### <center>$1-\\sigma(a)=\\frac{1+e^{-a}}{1+e^{-a}}-\\frac{1}{1+e^{-a}}=\\frac{e^{-a}}{1+e^{-a}}=\\frac{1}{e^a(1+e^{-a})}=\\frac{1}{e^a+1}=\\sigma(-a)$</center>\n",
    "\n",
    "</br>\n",
    "\n",
    "### The inverse of the sigmoid can also be found directly. Allow $y=\\sigma(x)$, so \n",
    "### <center>$y=\\sigma(x)=\\frac{1}{1+e^{-x}}$</center>\n",
    "### <center>$⇒ 1+e^{-x}=\\frac{1}{y}$</center>\n",
    "### <center>$⇒ e^{-x}=\\frac{1}{y}-1$</center>\n",
    "### <center>$⇒ -x=ln(\\frac{1}{y}-1)$</center>\n",
    "### <center>$⇒ x=-ln(\\frac{1-y}{y})$</center>\n",
    "### <center>$⇒ x=ln(\\frac{y}{1-y})$</center>\n",
    "\n",
    "### Thus the inverse of the sigmoid function is  $\\sigma^{-1}(y)=ln(\\frac{y}{1-y})$. "
   ]
  },
  {
   "cell_type": "markdown",
   "metadata": {
    "id": "a2M6K3lKsgo8"
   },
   "source": [
    "### 4.12\n",
    "\n",
    "### eq. 4.88 is $\\frac{d\\sigma}{da}=\\sigma(1-\\sigma)$\n",
    "### eq. 4.59 is $\\sigma(a)=\\frac{1}{1+e^{-a}}$\n",
    "\n",
    "### Taking the derivative directly yields\n",
    "### $\\frac{d\\sigma}{da}=(-1)(1+e^{-a})^{-2}(-e^{-a})=\\frac{e^{-a}}{(1+e^{-a})^2}=\\frac{1}{1+e^{-a}}\\frac{e^{-a}}{1+e^{-a}}=\\frac{1}{1+e^{-a}}\\frac{1}{1+e^{a}}=\\sigma(a)\\sigma(-a)$\n",
    "\n",
    "### From exercise 4.7 we know $\\sigma(-a)=1-\\sigma(a)$, so we have the desired result\n",
    "### <center>$\\frac{d\\sigma}{da}=\n",
    "\\sigma(a)(1-\\sigma(a))$</center>"
   ]
  },
  {
   "cell_type": "markdown",
   "metadata": {
    "id": "n4HVCHlhLnCY"
   },
   "source": [
    "### 4.13\n",
    "### eq. 4.90 is \n",
    "### <center>$E(\\vec{w})=-ln(p(\\vec{t}|\\vec{w}))=-\\sum_{n=1}^{N}\\{t_ny_n+(1-t_n)ln(1-y_n)\\}$</center>\n",
    "### which after subbing in for the dependecies on $\\vec{w}$ yields\n",
    "### <center>$E(\\vec{w})=-\\sum_{n=1}^{N}\\{t_nln(\\sigma(\\vec{w}^T\\phi_n))+(1-t_n)ln(1-\\sigma(\\vec{w}^T\\phi_n)\\}$</center>\n",
    "### Taking the gradient of $E(\\vec{w})$ yields\n",
    "### <center>$\\nabla E(\\vec{w})= \\frac{∂E}{∂\\vec{w}}=\\frac{∂}{∂w⃗}[-\\sum_{n=1}^{N}\\{t_nln(\\sigma(\\vec{w}^T\\phi_n))+(1-t_n)ln(1-\\sigma(\\vec{w}^T\\phi_n)\\}]$</center>\n",
    "### This derivative can be more easily evaluated using eq. 4.88, $\\frac{d\\sigma}{da}=\\sigma(1-\\sigma)$\n",
    "### <center>$ =-\\sum_{n=1}^{N}\\{t_n\\frac{1}{\\sigma(\\vec{w}^T\\phi_n)}[\\sigma(\\vec{w}^T\\phi_n)(1-\\sigma(\\vec{w}^T\\phi_n))]\\phi_n+(1-t_n)\\frac{1}{1-\\sigma(\\vec{w}^T\\phi_n)}[-\\sigma(\\vec{w}^T\\phi_n)(1-\\sigma(\\vec{w}^T\\phi_n))]\\phi_n\\}$</center>\n",
    "### <center>$ =-\\sum_{n=1}^{N}\\{t_n(1-\\sigma(\\vec{w}^T\\phi_n))\\phi_n+(1-t_n)(-\\sigma(\\vec{w}^T\\phi_n))\\phi_n\\}$</center>\n",
    "### <center>$ =-\\sum_{n=1}^{N}[t_n-t_n\\sigma(\\vec{w}^T\\phi_n)-(\\sigma(\\vec{w}^T\\phi_n)-t_n\\sigma(\\vec{w}^T\\phi_n))]\\phi_n$</center>\n",
    "### <center>$ =-\\sum_{n=1}^{N}(t_n-\\sigma(\\vec{w}^T\\phi_n))\\phi_n$</center>\n",
    "### <center>$ =\\sum_{n=1}^{N}(\\sigma(\\vec{w}^T\\phi_n)-t_n)\\phi_n$</center>\n",
    "### setting $y_n=\\sigma(\\vec{w}^T\\phi_n)$ gives the desired result\n",
    "### <center>$\\nabla E(\\vec{w})=\\sum_{n=1}^{N}(y_n-t_n)\\phi_n$</center>"
   ]
  },
  {
   "cell_type": "markdown",
   "metadata": {
    "id": "MA_Ok3o4VlBy"
   },
   "source": [
    "### 4.14\n",
    "\n",
    "### The liklihood function for the logistic regresion model is given by eq. 4.89,\n",
    "### <center> $p(\\vec{t}|\\vec{w})=Π_{n=1}^{N} y_n^{t_n}\\{1-y_n\\}^{1-t_n}$\n",
    "### where $\\vec{t}=(t_1,...,t_n)^T$ and $y_n=p(C_1|\\phi_n)$ which is given by eq. 4.87,\n",
    "### <center> $p(C_1|\\phi_n)=\\sigma(\\vec{w}^T\\phi$)\n",
    "### Eq. 4.87 gives the probability that a point is classified into class $C_1$ given the input vector $\\phi$. Accoringly, the probability of the point being classified into the other class $C_2$ is $1-p(C_1|\\phi_n)$. We'll return to these probabilities below. First, we take the negative logarithm of both sides of eq. 4.89 yielding eq. 4.90,\n",
    "\n",
    "### <center>$E(\\vec{w})=-ln(p(\\vec{t}|\\vec{w}))=-\\sum_{n=1}^{N}\\{t_ny_n+(1-t_n)ln(1-y_n)\\}$</center>\n",
    "### where $y=\\sigma(a_n)$ and $a_n=\\vec{w}^T\\phi_n$. Taking the gradient of eq. 4.90 was the focus of problem 4.13 and is given by eq. 4.91,\n",
    "### <center>$\\nabla E(\\vec{w})=\\sum_{n=1}^{N}(y_n-t_n)\\phi_n$</center>\n",
    "### Obviously, the log liklihood is maximized when\n",
    "### <center> $\\nabla E(\\vec{w})=0⇒\\sum_{n=1}^{N}(y_n-t_n)\\phi_n=0⇒y_n=t_n⇒\\sigma(\\vec{w}^T\\phi_n)=t_n$\n",
    "### Now back to the probabilities. The above line tells us that the equation is optimized when $\\sigma(\\vec{w}^T\\phi_n)=t_n$, which is equivalent to $p(C_1|\\phi_n)=t_n$. We know our dataset is linearly seperable into two classes $C_1$ and $C_2$, so let $t_n=1$ when the data pt. belongs to $C_1$ and $t_n=0$ if it belongs to class $C_2$. the model is then optimized in the by $\\vec{w}→∞$, since\n",
    "### <center> $\\displaystyle \\lim_{\\vec{w} \\to ∞} p(C_1|\\phi_n)=1$\n",
    "### <center> $\\displaystyle \\lim_{\\vec{w} \\to ∞} 1-p(C_1|\\phi_n)=0$ \n",
    "### So, the max liklihood function maximized when $\\vec{w}→∞$. The same will hold in the case where $\\vec{w}→-∞$ except the labels will be flippped for each data pt. . So, in all, eq. 4.89 is optimized for a linearly seperable dataset when $|\\vec{w}|→∞$. "
   ]
  },
  {
   "cell_type": "markdown",
   "metadata": {
    "id": "XVRDLpx_VnHT"
   },
   "source": [
    "### 4.17\n",
    "### The softmax function is given as eq. 4.104,\n",
    "### <center>$p(C_k|\\phi_n)=y_k(\\phi)=\\frac{exp(a_k)}{\\sum_j exp(a_j)}$</center>\n",
    "### where $a_k$ is defined by eq. 4.105,\n",
    "### <center>$a_k=\\vec{w}^T_k \\phi$</center>\n",
    "### First, consider the case where k=j, so \n",
    "### <center>$y_k(\\phi)=\\frac{exp(a_j)}{\\sum_j exp(a_j)}$ and $\\frac{∂y_k}{∂a_j}=\\frac{∂y_k}{∂a_k}$</center>\n",
    "### By the quotient rule, $\\frac{∂y_k}{∂a_k}$ is given by\n",
    "### <center>$\\frac{∂y_k}{∂a_k}=\\frac{exp(a_j)\\sum_j exp(a_j)-[exp(a_j)]^2}{[\\sum_j exp(a_j)]^2}$</center>\n",
    "### <center>$\\frac{∂y_k}{∂a_k}=\\frac{exp(a_j)}{\\sum_j exp(a_j)}-[\\frac{exp(a_j)}{\\sum_j exp(a_j)}]^2$</center>\n",
    "### <center>$=y_k-y_k^2=y_k(1-y_k)$</center>\n",
    "### Now condsider the case where $k\\neq j$. Taking the derivative directly yields\n",
    "\n",
    "### <center>$\\frac{\\partial y_k}{\\partial a_j}=(-1)(\\sum_{j}exp(a_j))^{-2}(exp(a_k))exp(a_j)$</center>\n",
    "### <center>$=-\\frac{exp(a_k)exp(a_j)}{[\\sum_j exp(a_j)]^2}=-\\frac{exp(a_k)}{\\sum_j exp(a_j)}(-\\frac{exp(a_j)}{\\sum_j exp(a_j)})=-y_ky_j$</center>\n",
    "\n",
    "### the two results can be combined into matrix/vector form with the identity matrix giving the desired result (eq. 4.106)\n",
    "### <center>$\\frac{∂y_k}{∂a_j}=y_k(I_{kj}-y_j)$</center>\n"
   ]
  },
  {
   "cell_type": "markdown",
   "metadata": {
    "id": "7nyh1hcqe3cb"
   },
   "source": [
    "### 4.18\n",
    "\n",
    "### The cross-entropy error function is defined as eq. 4.108,\n",
    "### <center>$E(\\vec{w}_1,...,\\vec{w}_k)=-ln(p(T|\\vec{w}_1,...,\\vec{w}_k))=-\\sum_{n=1}^{N}\\sum_{k=1}^{K} t_{nk}ln(y_{nk})$\n",
    "### For convience the double summation will be expressed as $\\sum \\sum$ for the next several lines.\n",
    "### <center>$\\nabla_{\\vec{w}_j} E(\\vec{w}_1,...,\\vec{w}_k)=\\frac{∂}{∂\\vec{w}}[-\\sum \\sum t_{nk}ln(y_{nk})]=-\\sum \\sum \\frac{∂}{∂\\vec{w}}[t_{nk}ln(y_{nk})]$\n",
    "\n",
    "\n",
    "### Recall $y_{nk}=y_k(\\phi_n)$ and eq.'s 4.104 and 4.105\n",
    "### <center>$y_k(\\phi)=\\frac{exp(a_k)}{\\sum_j exp(a_j)}$\n",
    "### <center> $a_k=\\vec{w}^T\\phi$\n",
    "### By making use of the cahin rule, the derivative can be as\n",
    "### <center> $\\sum \\sum t_{nk} \\frac{∂}{∂\\vec{w}}[ln(y_{nk})]=\\sum \\sum t_{nk}(\\frac{∂}{∂y_{nk}}(ln(y_{nk}))(\\frac{∂y_{nk}}{∂\\vec{w}})$\n",
    "### <center> $=-\\sum \\sum t_{nk} (\\frac{∂}{∂y_{nk}}(ln(y_{nk}))(\\frac{∂y_{nk}}{∂a_j})(\\frac{\\partial a_j}{∂ \\vec{w}_j}) $\n",
    "### Making use of eq. 4.106, $\\frac{∂y_k}{∂a_j}=y_k(I_{kj}-y_j)$, we get\n",
    "### <center> $-\\sum \\sum t_{nk}(\\frac{1}{y_{nk}}) [y_{nk}(I_{kj}-y_{nj})](\\phi_n)$ \n",
    "### <center> $=-\\sum \\sum t_{nk} (I_{kj}-y_{nj})\\phi_n$ \n",
    "### <center> $=-[\\sum \\sum t_{nk}I_{kj}\\phi_n - \\sum \\sum t_{nk}y_{nj}\\phi_n]$\n",
    "### <center> $= \\sum \\sum t_{nk}y_{nj}\\phi_n-\\sum \\sum t_{nk}I_{kj}\\phi_n$\n",
    "### since $t_{nk}I_{kj}=t_{nj}$,\n",
    "### <center>  $= \\sum \\sum t_{nk}y_{nj}\\phi_n-\\sum t_{nj}\\phi_n$\n",
    "### We can now consider the summations themselves by first recalling that by definition $\\sum_{k=1}^{K} t_{nk}=1$. Making use of this reduces the equation to\n",
    "### <center> $=\\sum_{n=1}^{N} y_{nj}\\phi_n-\\sum_{n=1}^{N}t_{nj}\\phi_n$ \n",
    "### <center> $=\\sum_{n=1}^{N} (y_{nj}-t_{nj})\\phi_n$\n",
    "### which is the desired result\n",
    "### <center> $\\nabla_{\\vec{w}_j} E(\\vec{w}_1,...,\\vec{w}_k)=\\sum_{n=1}^{N} (y_\n",
    "{nj}-t_{nj})\\phi_n$\n",
    "\n"
   ]
  },
  {
   "cell_type": "code",
   "execution_count": 1,
   "metadata": {
    "id": "S0jN65OnValC"
   },
   "outputs": [],
   "source": []
  }
 ],
 "metadata": {
  "colab": {
   "collapsed_sections": [],
   "name": "PS2.BAYER.ZANE.ipynb",
   "provenance": []
  },
  "kernelspec": {
   "display_name": "Python 3",
   "language": "python",
   "name": "python3"
  },
  "language_info": {
   "codemirror_mode": {
    "name": "ipython",
    "version": 3
   },
   "file_extension": ".py",
   "mimetype": "text/x-python",
   "name": "python",
   "nbconvert_exporter": "python",
   "pygments_lexer": "ipython3",
   "version": "3.9.5"
  }
 },
 "nbformat": 4,
 "nbformat_minor": 1
}
