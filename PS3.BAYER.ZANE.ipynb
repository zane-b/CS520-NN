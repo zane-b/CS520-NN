{
 "cells": [
  {
   "cell_type": "markdown",
   "metadata": {
    "id": "HCpCU-17V0nE"
   },
   "source": [
    "# Problem Set 3 - Zane Bayer - CSCI520 - 4/12/2022\n",
    "\n",
    "note: Colab seems to have changed in some way in how it inserts the collapsible sections for headings. If you are using google colab while grading, you can still navigate to each question using the table of contents on the left."
   ]
  },
  {
   "cell_type": "markdown",
   "metadata": {
    "id": "qLburWBtV4P9"
   },
   "source": [
    "## Learning from Data "
   ]
  },
  {
   "cell_type": "markdown",
   "metadata": {
    "id": "jlxligwOWlo8"
   },
   "source": [
    "#### EX. 3.2\n",
    "\n",
    "#### We need to make only 3 updates to the PLA exercise from a previous problem set to satisfy this exercise:\n",
    "#### 1. Create Nonlinear (NL) dataset\n",
    "#### 2. Evaluate $E_{in}$ at each step in PLA\n",
    "#### 3. Store the best performing weight vector\n",
    "\n"
   ]
  },
  {
   "cell_type": "markdown",
   "metadata": {
    "id": "wBJV2DNb3jv0"
   },
   "source": [
    "#### the following block implements the pocket PLA by adding updates 2 and 3 described above."
   ]
  },
  {
   "cell_type": "code",
   "execution_count": 87,
   "metadata": {
    "id": "XNqa9NJErrid"
   },
   "outputs": [],
   "source": [
    "import numpy as np\n",
    "from numpy import random as rd\n",
    "import matplotlib.pyplot as plt\n",
    "\n",
    "\n",
    "def plaPocket(ds, maxIter):\n",
    "    \n",
    "    #function which performs the pocket perceptrn learning algorithm\n",
    "    #on a dataset ds.\n",
    "    #INPUTS:\n",
    "    #1.ds: The dataset which have the form [x1 x2 label] for each sample\n",
    "    #2.maxIter: the maximum number of iterations the algorithm should execute\n",
    "    #OUTPUTS:\n",
    "    #1. w: the final weight vector found through usual pla\n",
    "    #2. wBest: the best performing weight vector found in all iterations\n",
    "    #3. updateAcc: list of accuracy values for the updated weight vector at each iteration\n",
    "    #4. bestAcc: list of accuracy values for the best performing weight vector at each each iteration\n",
    "\n",
    "    #Appending x0=1\n",
    "    ds=np.insert(ds,0,np.ones([len(ds)]),axis=1)\n",
    "    numSample=ds.shape[0]\n",
    "    numDim=ds.shape[1]-1\n",
    "    \n",
    "    #initializing \n",
    "    w = np.zeros(numDim)\n",
    "    wBest=np.zeros(numDim)\n",
    "    x= ds[:,:numDim]\n",
    "    labels=ds[:,numDim]\n",
    "    updateAcc=[]\n",
    "    bestAcc=[]\n",
    "    \n",
    "    #Main loop \n",
    "    for i in range(maxIter):\n",
    "        updatePosLabel=[]\n",
    "        bestPosLabel=[]\n",
    "        ind = rd.choice(np.arange(numSample), numSample)\n",
    "        \n",
    "        for j in range(len(ind)):\n",
    "            pt=x[j]\n",
    "            label=y[j]\n",
    "            prod=pt.dot(w.T)\n",
    "            pred = prod*label             \n",
    "            \n",
    "            if pred <= 0:\n",
    "                w = w + (label-prod)*pt\n",
    "                w=w/w[-1]\n",
    "                 \n",
    "            else:\n",
    "                updatePosLabel.append(j)\n",
    "\n",
    "            prod=pt.dot(wBest.T)\n",
    "            pred=prod*label\n",
    "            if pred>0:\n",
    "              bestPosLabel.append(j)\n",
    "\n",
    "        updateCorrect=len(updatePosLabel)/numSample\n",
    "        bestCorrect=len(bestPosLabel)/numSample\n",
    "\n",
    "        if updateCorrect>bestCorrect:\n",
    "          wBest=w\n",
    "            \n",
    "        updateAcc.append(updateCorrect)\n",
    "        bestAcc.append(bestCorrect)\n",
    "\n",
    "        if len(updatePosLabel) == numSample:\n",
    "            break\n",
    "        \n",
    "\n",
    "    '''\n",
    "    if len(posLabel)!=numSample:\n",
    "      print('PLA did not converge completely, accuracy=',len(posLabel)/numSample)\n",
    "    else:\n",
    "      print('PLA converged after',i,'iterations')\n",
    "    '''\n",
    "    return w, wBest, updateAcc, bestAcc"
   ]
  },
  {
   "cell_type": "markdown",
   "metadata": {
    "id": "5Qa0aok233V5"
   },
   "source": [
    "#### Creating a NL dataset by the method described in the text of creating a linear set, then randomly changing the labels of 10% of the points. "
   ]
  },
  {
   "cell_type": "code",
   "execution_count": 88,
   "metadata": {
    "colab": {
     "base_uri": "https://localhost:8080/",
     "height": 282
    },
    "id": "N_qTvatH4P_Y",
    "outputId": "156011df-28ca-450e-a944-04bab3457ee0"
   },
   "outputs": [
    {
     "name": "stdout",
     "output_type": "stream",
     "text": [
      "[-0.07498551  0.41271931]\n"
     ]
    },
    {
     "data": {
      "image/png": "[encoded data removed]",
      "text/plain": [
       "<Figure size 432x288 with 1 Axes>"
      ]
     },
     "metadata": {
      "needs_background": "light"
     },
     "output_type": "display_data"
    }
   ],
   "source": [
    "numPts=100\n",
    "\n",
    "coef=rd.uniform(-1,1,[2])\n",
    "print(coef)\n",
    "poly=np.polynomial.Polynomial(coef.T)\n",
    "plt.figure()\n",
    "x=rd.uniform(-2,2,[numPts,2])\n",
    "plt.plot(x[:,0],x[:,1],'x')\n",
    "\n",
    "x1=np.linspace(-2,2,1000)\n",
    "plt.plot(x1,poly(x1))\n",
    "\n",
    "plt.show()"
   ]
  },
  {
   "cell_type": "code",
   "execution_count": 89,
   "metadata": {
    "id": "0GgqFFJR23f1"
   },
   "outputs": [],
   "source": [
    "#Using an rng, the below will randomly mislabel a pt. with probability of 10%\n",
    "\n",
    "y=np.zeros(len(x))\n",
    "plus=[]\n",
    "minus=[]\n",
    "\n",
    "for i in range(x.shape[0]):\n",
    "  val=poly(x[i][0])\n",
    "  prob=rd.rand()\n",
    "\n",
    "  if np.sign(val-x[i][1])<0 and prob<.9:\n",
    "    y[i]=int(1)\n",
    "    plus.append(x[i])\n",
    "  elif prob<.9:\n",
    "    y[i]=int(-1)\n",
    "    minus.append(x[i])\n",
    "\n",
    "  if np.sign(val-x[i][1])<0 and prob>=.9:\n",
    "    y[i]=int(-1)\n",
    "    minus.append(x[i])\n",
    "  elif prob>=.9:\n",
    "    y[i]=int(1)\n",
    "    plus.append(x[i])\n",
    "plus=np.asfarray(plus)\n",
    "minus=np.asfarray(minus)"
   ]
  },
  {
   "cell_type": "code",
   "execution_count": 90,
   "metadata": {
    "colab": {
     "base_uri": "https://localhost:8080/",
     "height": 282
    },
    "id": "4ijExmDv4xsv",
    "outputId": "b37e3516-ac53-452b-ab5e-90c6db2635e6"
   },
   "outputs": [
    {
     "data": {
      "text/plain": [
       "[<matplotlib.lines.Line2D at 0x7fb96503d9d0>]"
      ]
     },
     "execution_count": 90,
     "metadata": {},
     "output_type": "execute_result"
    },
    {
     "data": {
      "image/png": "[encoded data removed]",
      "text/plain": [
       "<Figure size 432x288 with 1 Axes>"
      ]
     },
     "metadata": {
      "needs_background": "light"
     },
     "output_type": "display_data"
    }
   ],
   "source": [
    "#By plotting, we can see that the cell above is working well at mislabeling ~10% of the data\n",
    "plt.figure()\n",
    "\n",
    "plt.scatter(plus[:,0],plus[:,1],c='g',marker='+')\n",
    "plt.scatter(minus[:,0],minus[:,1],c='r',marker='_')\n",
    "x1=np.linspace(-2,2,100)\n",
    "plt.plot(x1,poly(x1))"
   ]
  },
  {
   "cell_type": "markdown",
   "metadata": {
    "id": "m6Ka91e-8YX0"
   },
   "source": [
    "#### compiling the dataset and running the experiment as asked in the text."
   ]
  },
  {
   "cell_type": "code",
   "execution_count": 91,
   "metadata": {
    "id": "SuZ25IUY_1Wq"
   },
   "outputs": [],
   "source": [
    "ds=np.append(x,y.reshape(len(y),1),axis=1)"
   ]
  },
  {
   "cell_type": "code",
   "execution_count": 92,
   "metadata": {
    "colab": {
     "base_uri": "https://localhost:8080/",
     "height": 282
    },
    "id": "FBov0BE9ALCo",
    "outputId": "74347cbc-fc9e-43b6-80ed-791fbfd6f37b"
   },
   "outputs": [
    {
     "data": {
      "text/plain": [
       "<matplotlib.legend.Legend at 0x7fb965013790>"
      ]
     },
     "execution_count": 92,
     "metadata": {},
     "output_type": "execute_result"
    },
    {
     "data": {
      "image/png": "[encoded data removed]",
      "text/plain": [
       "<Figure size 432x288 with 1 Axes>"
      ]
     },
     "metadata": {
      "needs_background": "light"
     },
     "output_type": "display_data"
    }
   ],
   "source": [
    "maxIters=1000\n",
    "maxTrials=20\n",
    "\n",
    "avgUpdateAcc=np.zeros(maxIters)\n",
    "avgBestAcc=np.zeros(maxIters)\n",
    "\n",
    "for i in range(maxTrials):\n",
    "  updateCoeff,bestCoeff,updateAcc,bestAcc=plaPocket(ds,maxIters)\n",
    "  avgUpdateAcc=avgUpdateAcc+updateAcc\n",
    "  avgBestAcc=avgUpdateAcc+bestAcc\n",
    "\n",
    "#calculating the average error in for the two methods\n",
    "errorUpdate=1-avgUpdateAcc/maxTrials\n",
    "errorBest=1-avgBestAcc/maxTrials\n",
    "#print(max(avgBestAcc/maxTrials))\n",
    "#plotting the average error in sample for the two methods on the dataset\n",
    "plt.plot(errorUpdate,label='pla')\n",
    "plt.plot(errorBest,label='pocket')\n",
    "plt.legend()"
   ]
  },
  {
   "cell_type": "markdown",
   "metadata": {
    "id": "xDfb-dMMHBOx"
   },
   "source": [
    "#### from the above plot, it's clear that the pocket algorithm has a lower average error rate than the normal pla. I am confused about the last part of the question which asks to use a test set of N=1000, then plot $E_{out}(\\vec{w}(t))$ and $E_{out}(\\hat{w})$. I dont understand how the two out of sample error values would depend on t as we are not updating w and calculating the error at each step like we are in testing. The below is incomplete, it only creates the data for the last part."
   ]
  },
  {
   "cell_type": "code",
   "execution_count": 93,
   "metadata": {
    "id": "NIMiUnprIjUb"
   },
   "outputs": [],
   "source": [
    "maxTrials=20\n",
    "numPts=1000\n",
    "\n",
    "for i in range(maxTrials):\n",
    "  coef=rd.uniform(-1,1,[2])\n",
    "  poly=np.polynomial.Polynomial(coef.T)\n",
    "  x=rd.uniform(-2,2,[numPts,2])\n",
    "\n",
    "  y=np.zeros(len(x))\n",
    "  plus=[]\n",
    "  minus=[]\n",
    "\n",
    "  for j in range(x.shape[0]):\n",
    "    val=poly(x[j][0])\n",
    "    prob=rd.rand()\n",
    "\n",
    "    if np.sign(val-x[j][1])<0 and prob<.9:\n",
    "      y[j]=int(1)\n",
    "      plus.append(x[j])\n",
    "    elif prob<.9:\n",
    "      y[j]=int(-1)\n",
    "      minus.append(x[j])\n",
    "\n",
    "    if np.sign(val-x[j][1])<0 and prob>=.9:\n",
    "      y[j]=int(-1)\n",
    "      minus.append(x[j])\n",
    "    elif prob>=.9:\n",
    "      y[j]=int(1)\n",
    "      plus.append(x[j])\n",
    "  plus=np.asfarray(plus)\n",
    "  minus=np.asfarray(minus)\n",
    "  ds=np.append(x,y.reshape(len(y),1),axis=1)\n",
    "\n",
    "\n",
    "  "
   ]
  },
  {
   "cell_type": "markdown",
   "metadata": {
    "id": "KNaA9ShjWrkU"
   },
   "source": [
    "### EX.4.3 \n",
    "### a. Assuming that $f$ becomes more complex than the fixed $H$, then the deterministic noise will increase since its a property of the target function $f$. Since the amount of noise is increasing , there will be a higher tendency to overfit.\n",
    "\n",
    "### b. Neither, the deterministic noise is a property of $f$ alone, thus varying the complexity will have no effect on the amount of deterministic noise present in the data. When $H$ is less complex than $f$, there will be less tendency to overfit the data since we have less free parameters in $H$.\n",
    "\n"
   ]
  },
  {
   "cell_type": "markdown",
   "metadata": {
    "id": "NnWmtHiIYkLk"
   },
   "source": [
    "### EX. 4.9\n",
    "\n",
    "\n",
    "\n",
    "### As the validation set size, K, increases the model has less data to train on. For small values of K, this has a minimal effect on the expected error. However, as K grows larger it starts having a sigficant impact on the model's performance since the model does not have a enough data to converge during training. As for the second question of why the two curves converge as K increases, look at the relation between $E_{out}$ and $E_{val}$ given by\n",
    "#### <center> $E_{out}(g) \\le E_{val}(g)+O(\\frac{1}{\\sqrt{K}})$\n",
    "\n",
    "#### As the validation set size K increases, the $O(\\frac{1}{\\sqrt{K}})$ approach zero. As such, we would expect $E_{out}$ and $E_{val}$ to converge with one another as we see in the plot. \n",
    "\n",
    "![image.png](data:image/png;base64,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)\n"
   ]
  },
  {
   "cell_type": "markdown",
   "metadata": {
    "id": "33b3NWmmYoPh"
   },
   "source": [
    "## Pattern Recognition and Machine Learning "
   ]
  },
  {
   "cell_type": "markdown",
   "metadata": {
    "id": "I9j0XlUHYx_z"
   },
   "source": [
    "### 1.2\n",
    "\n",
    "### The regularized sum of squares error function is given by eq. 1.4,\n",
    "### <center> $\\tilde{E}(\\vec{w})=\\frac{1}{2}\\sum_{n=1}^{N} \\{y(x_n,\\vec{w})-t_n\\}^2+\\frac{\\lambda}{2}||\\vec{w}||^2$\n",
    "### where $||\\vec{w}||=\\vec{w}^T\\vec{w}$\n",
    "### taking the deriviative with respect to the weights gives\n",
    "### <center> $\\frac{∂\\tilde{E}}{∂w_i}=\\frac{∂}{∂w_i}[\\frac{1}{2}\\sum_{n=1}^{N} \\{y(x_n,\\vec{w})-t_n\\}^2+\\frac{\\lambda}{2}||\\vec{w}||^2]$\n",
    "### <center> $=\\frac{1}{2}[2\\sum_{n=1}^{N} \\{y(x_n,\\vec{w})-t_n\\}x_n^i+2\\lambda w_i]$\n",
    "\n",
    "### <center> $=\\sum_{n=1}^{N}\\sum_{j=0}^{M}x_n^{j+i}w_j-\\sum_{n=1}^{N}x_n^it_n+\\lambda w_i$\n",
    "\n",
    "### The error is optimized when $\\frac{∂\\tilde{E}}{∂w_i}=0$, so \n",
    "###  <center> $\\sum_{n=1}^{N}\\sum_{j=0}^{M}x_n^{j+i}w_j-\\sum_{n=1}^{N}x_n^it_n+\\lambda w_i=0$\n",
    "\n",
    "### <center> $\\sum_{n=1}^{N}\\sum_{j=0}^{M}x_n^{j+i}w_j+\\lambda w_i=\\sum_{n=1}^{N}x_n^it_n$\n",
    "\n",
    "### Allow $A_{ij}=\\sum_{n=1}^N (x_n)^{j+i}$ and $T_i=\\sum_{n=1}^N (x_n)^it_n$, then \n",
    "### <center> $\\sum_{j=0}^M A_{ij}w_j+\\lambda w_j=T_i$\n",
    "\n",
    "### We've derived a set of equations which are almost identical to those in problem 1.1 which minimized the nonregularized sum of squares error (eq. 1.122),\n",
    "### <center> $\\sum_{j=0}^M A_{ij}w_j=T_i$\n",
    "### but now we have an additional regularization term, $\\lambda w_j$, in each equation.\n",
    "\n",
    "\n"
   ]
  },
  {
   "cell_type": "markdown",
   "metadata": {
    "id": "Bsho0oO7eoQ5"
   },
   "source": [
    "### 1.3\n",
    "\n",
    "### The contents of the boxes are:\n",
    "\n",
    "\n",
    "*   red: 3 apples, 4 oranges, 3 limes\n",
    "*   blue: 1 apple, 1 orange, 0 limes\n",
    "*   green: 3 apples, 3 oranges, 4 limes\n",
    "\n",
    "### Let the probabilities for each be: $p(r)=.2$, $p(b)=.2$, and $p(g)=.6$. The probability of selecting an apple is given by the sum \n",
    "### <center> $p(a)=p(r)p(a|r)+p(b)p(a|b)+p(g)p(a|g)$\n",
    "### <center> $=(.2)(.3)+(.2)(.5)+(.6)(.3)$\n",
    "### <center> $.06+.1+.18=.34$\n",
    "### So the probability of selecting an apple is 34%. We can use Baye's theorem (eq.1.43),\n",
    "### <center> $p(\\vec{w}|D)=\\frac{p(D|\\vec{w})p(\\vec{w})}{p(D)}$\n",
    "### to find the probability that a selected orange came from the green box by\n",
    "### <center>  $p(g|0)=\\frac{p(o|g)p(g)}{p(o)}$\n",
    "### to get p(o), we have to do the same type of sum as we did for the probability of selectig an apple.\n",
    "### <center> $p(o)=p(r)p(o|r)+p(b)p(o|b)+p(g)p(o|g)$\n",
    "### <center> $=(.2)(.4)+(.2)(.5)+(.6)(.3)$\n",
    "### <center> $.08+.1+.18=.36$\n",
    "### Plugging into Baye's theorem gives \n",
    "### <center> p(g|o)=$\\frac{(.3)(.6)}{.36}=.5$\n",
    "### So the probability that the picked orange came from the green box is 50%."
   ]
  },
  {
   "cell_type": "markdown",
   "metadata": {
    "id": "RR9DDVnuj7Pm"
   },
   "source": [
    "### 1.39\n",
    "\n",
    "### Table 1.3 is shown below.\n",
    "![Screenshot (57).png](data:image/png;base64,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)\n",
    "\n",
    "### the entropy H is given by eq 1.97,\n",
    "### <center> $H=-∑_i p_iln(p_i)$\n",
    "\n",
    "###a. $H[x]=-\\sum_i p(x)ln(p(x))=-[\\frac{2}{3}ln\\frac{2}{3}+\\frac{1}{3}ln\\frac{1}{3}]=.63651$\n",
    "\n",
    "###b. $H[y]=-\\sum_i p(y)ln(p(y))=-[\\frac{1}{3}ln\\frac{1}{3}+\\frac{2}{3}ln\\frac{2}{3}]=.63651$\n",
    "\n",
    "### The entropy for conditionals is given by \n",
    "### <center> $H[Y|X]=-\\sum_i \\sum_j p(x,y)log(\\frac{p(x,y)}{p(x)}$\n",
    "\n",
    "### c. $H[y|x]=-[\\frac{1}{3}ln\\frac{1}{2}+\\frac{1}{3}ln\\frac{1}{2}+\\frac{1}{3}ln1]=.46210$\n",
    "\n",
    "### d. $H[x|y]=-[\\frac{1}{3}ln1+\\frac{1}{3}ln\\frac{1}{2}+\\frac{1}{3}ln\\frac{1}{2}]=.46210$\n",
    "\n",
    "### e. $H[x,y]=H[y|x]+H[x]=.46210+.63651=1.0986$\n",
    "### f. $I[x,y]=H[x]-H[x|y]=.63651-.46210=.17441$"
   ]
  },
  {
   "cell_type": "markdown",
   "metadata": {
    "id": "BXpIC1tdpoTS"
   },
   "source": [
    "### 2.12 \n",
    "We're told that the uniform distribution for a random variable x is\n",
    "### <center> $U(x|a,b)=\\frac{1}{b-a}$ for $a≤x\\le b$\n",
    "### It's easy to show that this distribution is normalized over the domain  $a≤x\\le b$,\n",
    "### <center> $∫_a^b\\frac{1}{b-a}dx=[\\frac{x}{b-a}]_a^b =\\frac{b}{b-a}-\\frac{a}{b-a}=1$\n",
    "</br>\n",
    "\n",
    "### The mean of this distribution is found by calculating $\\mathbb{E}[x]$,\n",
    "### <center> $\\mathbb{E}(x)=∫_a^b \\frac{x}{b-a}dx=[\\frac{1}{2}\\frac{x^2}{b-a}]_a^b=\\frac{1}{2}[\\frac{b^2}{b-a}-\\frac{a^2}{b-a}]=\\frac{1}{2}\\frac{(b+a)(b-a)}{b-a}=\\frac{b+a}{2}$\n",
    "\n",
    "### Thus the mean of the uniform distribution is $\\frac{b+a}{2}$. The variance is given by \n",
    "### <center> $var[x]=\\mathbb{E}[x^2]-\\mathbb{E}[x]^2$\n",
    "### We already know the mean value, so\n",
    "### <center> $var[x]=\\mathbb{E}[x^2]-(\\frac{a+b}{2})^2$\n",
    "### The quantity $\\mathbb{E}[x^2]$ is given by\n",
    "### <center> $\\mathbb{E}[x^2]=∫_a^b \\frac{x^2}{b-a}dx=[\\frac{1}{3}\\frac{x^3}{b-a}]_a^b$\n",
    "### <center> $=\\frac{1}{3}[\\frac{b^3-a^3}{b-a}]=\\frac{1}{3}[b^2+ba+a^2]$\n",
    "### So the variance is given by\n",
    "### <center> $var[x]=\\frac{1}{3}[b^2+ba+a^2]-(\\frac{a+b}{2})^2$\n",
    "### <center> $\\frac{1}{3}[b^2+ba+a^2]-\\frac{1}{4}[a^2+ba+b^2$\n",
    "\n",
    "### <center> $⇒12var[x]=4b^2+4ba+4a^2-(3a^2+3ba+3b^2)=b^2+ba+a^2=(a+b)^2$\n",
    "### <center> $⇒var[x]=\\frac{(a+b)^2}{12}$"
   ]
  },
  {
   "cell_type": "markdown",
   "metadata": {
    "id": "yTYMh8ymjehy"
   },
   "source": [
    "### 3.4\n",
    "\n",
    "### We are given the linear model \n",
    "### <center> $y(x,\\vec{w})=w_0+\\sum_{i=1}^{D}w_ix_i$\n",
    "###and the sum of squares error function in the form\n",
    "### <center> $E_d(\\vec{w})=\\frac{1}{2}\\sum_{n=1}^{N}\\{y(x_n,\\vec{w})-t_n\\}^2$\n",
    "### We are told that a Gaussian noise $ϵ_i$ is with mean of zero ($\\mathbb{E}[ϵ_i]=0)$ and variance $\\sigma^2$ ($\\mathbb{E}[ϵ_i ϵ_j]=δ_{ij} σ^2$) is added to each of the input variables $x_i$. Allow $\\tilde{y}$ to be the modified linear model \n",
    "### <center> $\\tilde{y}=w_0+\\sum_{i=1}^{D}w_i(x_{ni}+\\epsilon_{ni})=y_n+\\sum_{i=1}^{D}w_iϵ_{ni}$\n",
    "\n",
    "### where $y_n=y(y(x_n,\\vec{w})$ and $\\epsilon_{ni} \\tilde{} N(0,\\sigma^2)$. The modified error function is then \n",
    "### <center> $\\tilde{E}=\\frac{1}{2}\\sum_{n=1}^N \\{\\tilde{y}-t_n\\}^2$ \n",
    "### <center> $=\\frac{1}{2}\\sum_{n=1}^N \\{\\tilde{y}^2-2\\tilde{y}t_n+t_n^2\\}$\n",
    "### <center> $=\\frac{1}{2}\\sum_{n=1}^N \\{y_n^2+2y_n\\sum_{i=1}^D w_iϵ_{ni}+(\\sum_{i=1}^D w_iϵ_{ni})^2-2t_ny_n-2t_n\\sum_{i=1}^D w_iϵ_{ni}+t_n^2\\}$\n",
    "### We now take the expectation of $\\tilde{E}$ over $ϵ_{ni}$\n",
    "### <center> $\\mathbb{E}[\\tilde{E}]=\\mathbb{E}[\\frac{1}{2}\\sum_{n=1}^N \\{y_n^2+2y_n\\sum_{i=1}^D w_iϵ_{ni}+(\\sum_{i=1}^D w_iϵ_{ni})^2-2t_ny_n-2t_n\\sum_{i=1}^D w_iϵ_{ni}+t_n^2\\}]$ \n",
    "### since $\\mathbb{E}[ϵ_{ni}]=0$, the second and fifth terms are zero, so\n",
    "### <center> $\\mathbb{E}[\\frac{1}{2}\\sum_{n=1}^N \\{y_n^2+(\\sum_{i=1}^D w_iϵ_{ni})^2-2t_ny_n+t_n^2\\}]$\n",
    "### <center> $=\\mathbb{E}[E_D+(\\sum_{i=1}^D w_iϵ_{ni})^2]$\n",
    "### $E_D$ is independent of ϵ_{ni}, so\n",
    "### <center> $=E_D+\\mathbb{E}[(\\sum_{i=1}^D w_iϵ_{ni})^2]$\n",
    "### Each $ϵ_{ni}$ are independent with variance $\\sigma^2$, so we get the final result\n",
    "### <center> $\\mathbb{E}[\\tilde{E}]=E_D+\\frac{1}{2}\\sum_{i=1}^D w_i^2\\sigma^2$"
   ]
  },
  {
   "cell_type": "markdown",
   "metadata": {
    "id": "aZ5kcXFgzPZm"
   },
   "source": [
    "### 3.11\n",
    "\n",
    "### We are given the ,matrix identity\n",
    "### <center> $M+\\vec{v}\\vec{v}^T=M^{-1}-\\frac{(M^{-1}\\vec{v})(\\vec{v}^TM^{-1})}{1+\\vec{v}^TM^{-1}\\vec{v}}$\n",
    "\n",
    "### and eq. 3.59 for the uncertainity of the linear regression function \n",
    "### <center> $\\sigma_{N}^2(\\vec{x})=\\frac{1}{β}+\\phi(\\vec{x})^TS_N\\phi(\\vec{x})$\n",
    "### It follows that the uncertainty at step N+1 is given by \n",
    "### <center>  $\\sigma_{N+1}^2(\\vec{x})=\\frac{1}{β}+\\phi(\\vec{x})^TS_{N+1}\\phi(\\vec{x})$\n",
    "### Problem 3.8 tells us that $S_{N+1}$ is \n",
    "### <center> $S_{N+1}^{-1}=S_N^-1+β\\phi_{N+1}\\phi_{N+1}^T⇒S_{N+1}=[S_N^-1+β\\phi_{N+1}\\phi_{N+1}^T]^{-1}$\n",
    "### plugging this into the uncertainty eq. gives\n",
    "### <center>  $\\sigma_{N+1}^2(\\vec{x})=\\frac{1}{β}+\\phi^T[S_N^-1+β\\phi_{N+1}\\phi_{N+1}^T]^{-1}\\phi$\n",
    "\n",
    "### Using the given matrix identity (eq 3.110) yields\n",
    "###  <center>  $\\sigma_{N+1}^2(\\vec{x})=\\frac{1}{β}+\\phi^T[S_N-β\\frac{(S_N\\phi_{N+1})(\\phi_{N+1}^TS_n)}{1+\\beta\\phi_{N+1}^TS_N\\phi_{N+1}}]\\phi$\n",
    "### Now consider the quantity $\\sigma_N^2(\\vec{x})-\\sigma_{N+1}^2(\\vec{x})$,\n",
    "### <center> $\\sigma_N^2(\\vec{x})-\\sigma_{N+1}^2(\\vec{x})=\\frac{1}{β}+\\phi(\\vec{x})^TS_N\\phi(\\vec{x})-\\{\\frac{1}{β}+\\phi^T[S_N-β\\frac{(S_N\\phi_{N+1})(\\phi_{N+1}^TS_n)}{1+\\beta\\phi_{N+1}^TS_N\\phi_{N+1}}]\\phi\\}$\n",
    "### <center> $=\\phi^T[β\\frac{(S_N\\phi_{N+1})(\\phi_{N+1}^TS_n)}{1+\\beta\\phi_{N+1}^TS_N\\phi_{N+1}}]\\phi$\n",
    "### <center> $=β\\frac{(\\phi^TS_N\\phi_{N+1})(\\phi_{N+1}^TS_n\\phi)}{1+\\beta\\phi_{N+1}^TS_N\\phi_{N+1}}$\n",
    "### <center> $=β\\frac{[\\phi^TS_N\\phi_{N+1}]^2}{1+\\beta\\phi_{N+1}^TS_N\\phi_{N+1}}$\n",
    "### Hint #2 tells us that $S_N$ is positive definite, meaning\n",
    "### <center> $\\phi^TS_N\\phi_{N+1}> 0$ \n",
    "### for all $\\phi\\in \\mathbb{R}^n$ excluding the zero vector. So both the numerator and denominator will always be positive and it follows that \n",
    "### <center> $β\\frac{[\\phi^TS_N\\phi_{N+1}]^2}{1+\\beta\\phi_{N+1}^TS_N\\phi_{N+1}}\\ge0$\n",
    "### We conclude that \n",
    "### <center> $\\sigma_N^2(\\vec{x})-\\sigma_{N+1}^2(\\vec{x})\\ge0⇒\\sigma_N^2(\\vec{x})\\ge \\sigma_{N+1}^2(\\vec{x})$"
   ]
  },
  {
   "cell_type": "code",
   "execution_count": 93,
   "metadata": {
    "id": "aYBJgcefWk61"
   },
   "outputs": [],
   "source": []
  }
 ],
 "metadata": {
  "colab": {
   "collapsed_sections": [],
   "name": "PS3.BAYER.ZANE.ipynb",
   "provenance": []
  },
  "kernelspec": {
   "display_name": "Python 3",
   "language": "python",
   "name": "python3"
  },
  "language_info": {
   "codemirror_mode": {
    "name": "ipython",
    "version": 3
   },
   "file_extension": ".py",
   "mimetype": "text/x-python",
   "name": "python",
   "nbconvert_exporter": "python",
   "pygments_lexer": "ipython3",
   "version": "3.9.5"
  }
 },
 "nbformat": 4,
 "nbformat_minor": 1
}
