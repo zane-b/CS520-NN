{
 "cells": [
  {
   "cell_type": "markdown",
   "metadata": {
    "id": "rwub-H6tz1Wj"
   },
   "source": [
    "# Problem Set 1 - Zane Bayer - CS520 - (3/8/2022)"
   ]
  },
  {
   "cell_type": "markdown",
   "metadata": {
    "id": "bs9nuDKI0l9v"
   },
   "source": [
    "## *Learning from Data* exercises"
   ]
  },
  {
   "cell_type": "markdown",
   "metadata": {
    "id": "adtv-SXT0zxt"
   },
   "source": [
    "### EX. 1.1\n",
    "\n",
    "### a. X is the space of all possible medical histories and symptoms. Y is the space of all possible underlying problems/diseases. f is the function which maps the medical histories and symptoms to an underlying problem, in other words, its a diagnosis function.\n",
    "\n",
    "### b. X is the space of all possible handwritten digits. Depending on the specific task Y could simply be [0,1,2,3,4,5,6,7,8,9] or a space of multiple digit numbers. For instance, The Y space for the MNIST dataset is [0,1,2,3,4,5,6,7,8,9], but for the task of zipcode recognition Y is the space of all 5 digit combinations. f is th function which maps handwritten digits to the numeric space Y, in other words, its an identification function.\n",
    "\n",
    "### c. X is the space of all possible emails and Y is simply the binary space [spam, not spam]. f is function which maps emails to the binary space [spam, not spam] and thus identifies them as such.\n",
    "\n",
    "### d. X is the space of all possible combinations of [price,temperature,weekday]. Y is the space of all possible electric load values. f is the function which assigns a load value to each set of values [price,temperature,weekday], so it acts as an evaluation function.\n",
    "\n",
    "### e. X is the space of all possible data (not just the data available to us) and Y is the space of all all possible outputs. f is the 'true', underlying function which maps the space of all inputs X to the space of all outputs Y.  "
   ]
  },
  {
   "cell_type": "markdown",
   "metadata": {
    "id": "kE8Ekezb5aey"
   },
   "source": [
    "### EX. 1.2\n",
    "\n",
    "### a. Large, positive weights will be associated with words which are likely to appear in spam messages. Looking through my own spam folder reveals that words such as 'deal', 'congratulations', and 'free' would likely have large weights assigned to them.\n",
    "\n",
    "### b. Large, negative weights will be associated with words which are unlikely to appear in spam messages. These words migh include nicknames and other personal information.\n",
    "\n",
    "### c. The bias b would directly affect the borderline messages and how many are classified as spam.\n",
    "\n"
   ]
  },
  {
   "cell_type": "markdown",
   "metadata": {
    "id": "GDJwNxDH-Nze"
   },
   "source": [
    "### EX. 1.3\n",
    "\n",
    "### a. Show that $y(t)\\vec{w}^{T}(t)\\vec{x}(t)<0$ when $\\vec{x}(t)$ is misclassified.\n",
    "\n",
    "### If $\\vec{x}(t)$ is misclassified by the model, then by definition $\\vec{w}(t)^{T}\\vec{x}(t)$ and $y(t)$ have opposite signs. That is, if the point is misclassified, then $sign(\\vec{w}^{T}(t)\\vec{x}(t))=-sign(y(t))$. Since one of the multipliers is alaways negative, it follows that $y(t)\\vec{w}^{T}(t)\\vec{x}(t)<0$ when $\\vec{x}(t)$ is misclassified.\n",
    "\n",
    "\n",
    "\n",
    "### b. Show that  $y(t)\\vec{w}^{T}(t+1)\\vec{x}(t)>y(t)\\vec{w}^{T}(t)\\vec{x}(t)$\n",
    "### The update rule for the perceptron is \n",
    "### <center>$\\vec{w}(t+1)=\\vec{w}(t)+\\vec{y}(t)\\vec{x}(t)$</center>\n",
    "### If we sub this into the LHS of the inequality above, we get\n",
    "### <center>$y(t)(\\vec{w}(t)+y(t)\\vec{x}(t))^{T}\\vec{x}(t)$\n",
    "### distributing gives\n",
    "### <center>$y(t)\\vec{w}^{T}(t)+y(t)y(t)\\vec{x}(t)^{T}\\vec{x}(t)$</center>\n",
    "### $y(t)y(t)$ will always be positive and thus the 2nd term will always be positive. It follows that regardless of the sign of the 1st term, the following holds\n",
    "### <center>$y(t)\\vec{w}^{T}(t)+y(t)y(t)\\vec{x}(t)^{T}\\vec{x}(t)>y(t)\\vec{w}^{T}(t)\\vec{x}(t)$</center>\n",
    "### which is equivalent to \n",
    "### <center>$y(t)\\vec{w}^{T}(t+1)\\vec{x}(t)>y(t)\\vec{w}^{T}(t)\\vec{x}(t)$</center>\n",
    "\n",
    "\n",
    "### c. \n",
    "\n",
    "### there are 2 cases for when $\\vec{x}(t)$ is misclassified by the model. \n",
    "\n",
    "\n",
    "### 1.   $y(t)=-1$, model produces 1\n",
    "### 2.   $y(t)=1$, modelproduces -1\n",
    "\n",
    "### In the first case, the updated weight vector $\\vec{w}(t+1) $ is moved away from $\\vec{x}(t)$ such that $θ>90^o$ and $\\vec{x}(t)$ is correclty classified. In the second case, the updated weight vector $\\vec{w}(t+1)$ is moved toward $\\vec{x}(t)$ such that $\\theta<90^o$ and $\\vec{x}(t)$ is correctly classified. In both cases the updated weight vector moves in the 'correct' direction so that the angle between the weight vector and input vector produces the correct output.\n",
    "\n",
    "\n",
    "\n"
   ]
  },
  {
   "cell_type": "markdown",
   "metadata": {
    "id": "bn7FT6LlxEMu"
   },
   "source": [
    "### EX. 1.4\n"
   ]
  },
  {
   "cell_type": "code",
   "execution_count": null,
   "metadata": {
    "id": "859wnNZsobZz"
   },
   "outputs": [],
   "source": [
    "import numpy as np\n",
    "from numpy import random as rd\n",
    "\n",
    "def pla(ds, maxIter):\n",
    "    \n",
    "    #function which performs the perceptrn learning algorithm\n",
    "    #on a dataset ds.\n",
    "    #INPUTS:\n",
    "    #1.ds: The dataset which have the form [x1 x2 label] for each sample\n",
    "    #2.maxIter: the maximum number of iterations the algorithm should execute\n",
    "    #OUTPUTS:\n",
    "    #1. w: the final weight vector\n",
    "\n",
    "    #Appending x0=1\n",
    "    ds=np.insert(ds,0,np.ones([len(ds)]),axis=1)\n",
    "    numSample=ds.shape[0]\n",
    "    numDim=ds.shape[1]-1\n",
    "    \n",
    "    #initializing \n",
    "    w = np.zeros(numDim)\n",
    "    x= ds[:,:numDim]\n",
    "    labels=ds[:,numDim]\n",
    "    \n",
    "    #Main loop \n",
    "    for i in range(maxIter):\n",
    "        posLabel=[]\n",
    "        ind = rd.choice(np.arange(numSample), numSample)\n",
    "        \n",
    "        for j in range(len(ind)):\n",
    "            pt=x[j]\n",
    "            label=y[j]\n",
    "            prod=pt.dot(w.T)\n",
    "            pred = prod*label             \n",
    "            \n",
    "            if pred <= 0:\n",
    "                w = w + (label-prod)*pt\n",
    "                break \n",
    "            else:\n",
    "                posLabel.append(j)\n",
    "        if len(posLabel) == numSample:\n",
    "            break\n",
    "    \n",
    "    if len(posLabel)!=numSample:\n",
    "      print('PLA did not converge completely, accuracy=',len(posLabel)/numSample)\n",
    "    else:\n",
    "      print('PLA converged after',i,'iterations')\n",
    "\n",
    "    return w"
   ]
  },
  {
   "cell_type": "markdown",
   "metadata": {
    "id": "PdBVGG9Byykl"
   },
   "source": [
    "#### Creating a random line and set of 20 points"
   ]
  },
  {
   "cell_type": "code",
   "execution_count": null,
   "metadata": {
    "colab": {
     "base_uri": "https://localhost:8080/",
     "height": 283
    },
    "id": "MSdOgVxP0kY5",
    "outputId": "8f22d24f-0745-4b66-95f7-6bb90670ec25"
   },
   "outputs": [
    {
     "name": "stdout",
     "output_type": "stream",
     "text": [
      "[-0.44441402  0.81968194]\n"
     ]
    },
    {
     "data": {
      "image/png": "[encoded data removed]",
      "text/plain": [
       "<Figure size 432x288 with 1 Axes>"
      ]
     },
     "metadata": {
      "needs_background": "light"
     },
     "output_type": "display_data"
    }
   ],
   "source": [
    "coef=rd.uniform(-1,1,[2])\n",
    "print(coef)\n",
    "poly=np.polynomial.Polynomial(coef.T)\n",
    "plt.figure()\n",
    "x=rd.uniform(-2,2,[20,2])\n",
    "plt.plot(x[:,0],x[:,1],'x')\n",
    "\n",
    "x1=np.linspace(-2,2,100)\n",
    "plt.plot(x1,poly(x1))\n",
    "\n",
    "plt.show()"
   ]
  },
  {
   "cell_type": "markdown",
   "metadata": {
    "id": "BDtjaDPGzHF-"
   },
   "source": [
    "#### Labeling the points '+' if they lie above the line and '-' if they are below. "
   ]
  },
  {
   "cell_type": "code",
   "execution_count": null,
   "metadata": {
    "id": "tcdfWRuqAcla"
   },
   "outputs": [],
   "source": [
    "y=np.zeros(len(x))\n",
    "plus=[]\n",
    "minus=[]\n",
    "\n",
    "for i in range(x.shape[0]):\n",
    "  val=poly(x[i][0])\n",
    "  if np.sign(val-x[i][1])<0:\n",
    "    y[i]=int(1)\n",
    "    plus.append(x[i])\n",
    "  else:\n",
    "    y[i]=int(-1)\n",
    "    minus.append(x[i])\n",
    "plus=np.asfarray(plus)\n",
    "minus=np.asfarray(minus)"
   ]
  },
  {
   "cell_type": "code",
   "execution_count": null,
   "metadata": {
    "colab": {
     "base_uri": "https://localhost:8080/",
     "height": 283
    },
    "id": "xSDXUXIrCCRE",
    "outputId": "e9b06ebd-a7bd-4894-ff09-48441bc38b1c"
   },
   "outputs": [
    {
     "data": {
      "text/plain": [
       "[<matplotlib.lines.Line2D at 0x7f037f387c10>]"
      ]
     },
     "execution_count": 299,
     "metadata": {},
     "output_type": "execute_result"
    },
    {
     "data": {
      "image/png": "[encoded data removed]",
      "text/plain": [
       "<Figure size 432x288 with 1 Axes>"
      ]
     },
     "metadata": {
      "needs_background": "light"
     },
     "output_type": "display_data"
    }
   ],
   "source": [
    "plt.figure()\n",
    "\n",
    "plt.scatter(plus[:,0],plus[:,1],c='g',marker='+')\n",
    "plt.scatter(minus[:,0],minus[:,1],c='r',marker='_')\n",
    "x1=np.linspace(-2,2,100)\n",
    "plt.plot(x1,poly(x1))"
   ]
  },
  {
   "cell_type": "markdown",
   "metadata": {
    "id": "N3sWLT0Zzktn"
   },
   "source": [
    "#### the dataset and pla algorithm"
   ]
  },
  {
   "cell_type": "code",
   "execution_count": null,
   "metadata": {
    "id": "1zwp0feFR7aa"
   },
   "outputs": [],
   "source": [
    "ds=np.append(x,y.reshape(len(y),1),axis=1)"
   ]
  },
  {
   "cell_type": "code",
   "execution_count": null,
   "metadata": {
    "colab": {
     "base_uri": "https://localhost:8080/"
    },
    "id": "igcnDUPsNQV7",
    "outputId": "fbc060a8-f171-4360-bc2b-3c3a34f221a4"
   },
   "outputs": [
    {
     "name": "stdout",
     "output_type": "stream",
     "text": [
      "PLA converged after 8 iterations\n",
      "PLA Coefficients= [ 0.69966574 -0.73812186  1.        ]\n"
     ]
    }
   ],
   "source": [
    "coeffPLA=pla(ds,1000)\n",
    "coeffPLA=coeffPLA/coeffPLA[-1]\n",
    "print('PLA Coefficients=',coeffPLA/coeffPLA[-1])"
   ]
  },
  {
   "cell_type": "code",
   "execution_count": null,
   "metadata": {
    "id": "1qhr0EbiPXFa"
   },
   "outputs": [],
   "source": [
    "polyPLA=np.polynomial.Polynomial(coeffPLA[0:2])\n"
   ]
  },
  {
   "cell_type": "code",
   "execution_count": null,
   "metadata": {
    "colab": {
     "base_uri": "https://localhost:8080/",
     "height": 282
    },
    "id": "GNv6j9p0VFUB",
    "outputId": "ba50971f-90a9-4e70-ae44-bec6623af90a"
   },
   "outputs": [
    {
     "data": {
      "text/plain": [
       "<matplotlib.legend.Legend at 0x7f037ef34a90>"
      ]
     },
     "execution_count": 303,
     "metadata": {},
     "output_type": "execute_result"
    },
    {
     "data": {
      "image/png": "[encoded data removed]",
      "text/plain": [
       "<Figure size 432x288 with 1 Axes>"
      ]
     },
     "metadata": {
      "needs_background": "light"
     },
     "output_type": "display_data"
    }
   ],
   "source": [
    "plt.figure()\n",
    "\n",
    "plt.scatter(plus[:,0],plus[:,1],c='g',marker='+')\n",
    "plt.scatter(minus[:,0],minus[:,1],c='r',marker='_')\n",
    "x1=np.linspace(-2,2,100)\n",
    "plt.plot(x1,poly(x1),label='true')\n",
    "plt.plot(x1,polyPLA(x1),label='pla')\n",
    "plt.legend()"
   ]
  },
  {
   "cell_type": "markdown",
   "metadata": {
    "id": "3kkHXmFVc-FH"
   },
   "source": [
    "### EX. 1.5\n",
    "\n",
    "### a. Learning\n",
    "### b. while you could gather data on this problem, it's better suited for a design approach\n",
    "### c.  Learning\n",
    "### d. Again, while data could be gathered. there are better design approaches\n",
    "### e. Learning\n",
    "\n"
   ]
  },
  {
   "cell_type": "markdown",
   "metadata": {
    "id": "5Fp2sLoZ8GNQ"
   },
   "source": [
    "### EX. 1.6\n",
    "\n",
    "### a. In general, this is the problem of recommender systems which has a deep research literature. Traditionally, it's treated as a supervised learning problem where data could be a customer's interest and buyer history, then the targets are the customer's next purchase. There is also active research into unsupervised recommender systems.\n",
    "\n",
    "### b. reinforcement learning would likely be the best fit where the training data is how to play tic-tac toe along with a way to grade certain moves or board configurations.\n",
    "\n",
    "### c. This is essentially a clustering problem which would be best suited for unsupervised learning where the input data is simply the info for each movie. If we are also given labels for each  movie, then it could be treated as a classification problem using supervised learning.\n",
    "\n",
    "### d. This is fairly broad, so it could be any learning method based on the data. Suppose the input data is the rules of music composition with music scores as targets, then supervised learning is approriate. If we are given the rules of composition and a way to grade the output music scores, then reinforcement learning would work. Finally, if we are only given the rules of composition, then unsupervised learning would be the best fit.\n",
    "\n",
    "### e. This is a supervised learning regression problem where the training data is customer data such as credit score, age, income, etc. with targets of the maximum allowed credit of thos customers.\n",
    "\n",
    "\n",
    "\n",
    "\n"
   ]
  },
  {
   "cell_type": "markdown",
   "metadata": {
    "id": "H8u2Z6jd-MPa"
   },
   "source": [
    "### EX. 1.10\n",
    "### a. Since all the coins are fair, the actual frequency is $\\mu=0.5$."
   ]
  },
  {
   "cell_type": "code",
   "execution_count": null,
   "metadata": {
    "colab": {
     "base_uri": "https://localhost:8080/"
    },
    "id": "R-7so9TR-AHT",
    "outputId": "77d56c3b-ded9-4d12-a518-6850e889e4bf"
   },
   "outputs": [
    {
     "data": {
      "text/plain": [
       "(0.6, 0.6, 0.0)"
      ]
     },
     "execution_count": 304,
     "metadata": {},
     "output_type": "execute_result"
    }
   ],
   "source": [
    "#b.\n",
    "import numpy as np\n",
    "import matplotlib.pyplot as plt\n",
    "from numpy import random as rd\n",
    "\n",
    "\n",
    "def flipCoins(numCoins,numFlips):\n",
    "  #Flips a set of coins 'numFlips' times and measures the frequency of heads for 3 of the coins\n",
    "\n",
    "  countHeads=np.zeros(numCoins)\n",
    "  \n",
    "  for i in range(numFlips):\n",
    "    probs= rd.uniform(size=[numCoins])\n",
    "    probs[probs>0.5]=1\n",
    "    probs[probs<0.5]=0\n",
    "    countHeads=countHeads+probs\n",
    "\n",
    "  #print(countHeads)\n",
    "\n",
    "  firstCoin=countHeads[0]/numFlips\n",
    "  randCoin=rd.choice(countHeads)/numFlips\n",
    "  minCoin=countHeads[np.argmin(countHeads)]/numFlips\n",
    "\n",
    "  #print('first coin frequency=',firstCoin,'----- random coin frequency=',randCoin,'----- minimum frequency=',minCoin)\n",
    "\n",
    "  return firstCoin,randCoin,minCoin\n",
    "\n",
    "\n",
    "#test with 1000 coins being flipped 10 times\n",
    "flipCoins(1000,10)"
   ]
  },
  {
   "cell_type": "code",
   "execution_count": null,
   "metadata": {
    "id": "1UZTVbIQMzb3"
   },
   "outputs": [],
   "source": [
    "#running experiment with 1000 coins being flipped 10 times over 100000 trials\n",
    "\n",
    "numTrials=100000\n",
    "numCoins=1000\n",
    "numFlips=10\n",
    "\n",
    "firstCoin=[]\n",
    "randCoin=[]\n",
    "minCoin=[]\n",
    "\n",
    "for i in range(numTrials):\n",
    "  vals=flipCoins(numCoins,numFlips)\n",
    "  firstCoin.append(vals[0])\n",
    "  randCoin.append(vals[1])\n",
    "  minCoin.append(vals[2])\n",
    "\n",
    "\n",
    "firstCoin=np.asfarray(firstCoin)\n",
    "randCoin=np.asfarray(randCoin)\n",
    "minCoin=np.asfarray(minCoin)"
   ]
  },
  {
   "cell_type": "code",
   "execution_count": null,
   "metadata": {
    "colab": {
     "base_uri": "https://localhost:8080/",
     "height": 367
    },
    "id": "GOG5hmiiOA4R",
    "outputId": "24ef9fc0-86ce-4480-d98b-36d778e58c97"
   },
   "outputs": [
    {
     "data": {
      "text/plain": [
       "(array([  117.,     0.,   953.,     0.,  4410., 11757.,     0.,     0.,\n",
       "        20377.,     0., 24559., 20543.,     0., 11778.,     0.,     0.,\n",
       "         4461.,     0.,   950.,    95.]),\n",
       " array([0.  , 0.05, 0.1 , 0.15, 0.2 , 0.25, 0.3 , 0.35, 0.4 , 0.45, 0.5 ,\n",
       "        0.55, 0.6 , 0.65, 0.7 , 0.75, 0.8 , 0.85, 0.9 , 0.95, 1.  ]),\n",
       " <a list of 20 Patch objects>)"
      ]
     },
     "execution_count": 306,
     "metadata": {},
     "output_type": "execute_result"
    },
    {
     "data": {
      "image/png": "[encoded data removed]",
      "text/plain": [
       "<Figure size 432x288 with 1 Axes>"
      ]
     },
     "metadata": {
      "needs_background": "light"
     },
     "output_type": "display_data"
    }
   ],
   "source": [
    "#histogram for first coin\n",
    "plt.hist(firstCoin,bins=20)"
   ]
  },
  {
   "cell_type": "code",
   "execution_count": null,
   "metadata": {
    "colab": {
     "base_uri": "https://localhost:8080/",
     "height": 367
    },
    "id": "ExwmHHUaO2jk",
    "outputId": "042f3696-c35d-4705-8afc-1c9106a76755"
   },
   "outputs": [
    {
     "data": {
      "text/plain": [
       "(array([  101.,     0.,  1056.,     0.,  4465., 11508.,     0.,     0.,\n",
       "        20494.,     0., 24755., 20486.,     0., 11638.,     0.,     0.,\n",
       "         4410.,     0.,   985.,   102.]),\n",
       " array([0.  , 0.05, 0.1 , 0.15, 0.2 , 0.25, 0.3 , 0.35, 0.4 , 0.45, 0.5 ,\n",
       "        0.55, 0.6 , 0.65, 0.7 , 0.75, 0.8 , 0.85, 0.9 , 0.95, 1.  ]),\n",
       " <a list of 20 Patch objects>)"
      ]
     },
     "execution_count": 307,
     "metadata": {},
     "output_type": "execute_result"
    },
    {
     "data": {
      "image/png": "[encoded data removed]",
      "text/plain": [
       "<Figure size 432x288 with 1 Axes>"
      ]
     },
     "metadata": {
      "needs_background": "light"
     },
     "output_type": "display_data"
    }
   ],
   "source": [
    "#histogram for random coin\n",
    "plt.hist(randCoin,bins=20)"
   ]
  },
  {
   "cell_type": "code",
   "execution_count": null,
   "metadata": {
    "colab": {
     "base_uri": "https://localhost:8080/",
     "height": 384
    },
    "id": "xtCaBJv8PL09",
    "outputId": "1b66bebd-6f88-4dec-9030-69dc170c75ec"
   },
   "outputs": [
    {
     "data": {
      "text/plain": [
       "(array([6.2385e+04, 0.0000e+00, 0.0000e+00, 0.0000e+00, 0.0000e+00,\n",
       "        0.0000e+00, 0.0000e+00, 0.0000e+00, 0.0000e+00, 0.0000e+00,\n",
       "        3.7612e+04, 0.0000e+00, 0.0000e+00, 0.0000e+00, 0.0000e+00,\n",
       "        0.0000e+00, 0.0000e+00, 0.0000e+00, 0.0000e+00, 3.0000e+00]),\n",
       " array([0.  , 0.01, 0.02, 0.03, 0.04, 0.05, 0.06, 0.07, 0.08, 0.09, 0.1 ,\n",
       "        0.11, 0.12, 0.13, 0.14, 0.15, 0.16, 0.17, 0.18, 0.19, 0.2 ]),\n",
       " <a list of 20 Patch objects>)"
      ]
     },
     "execution_count": 308,
     "metadata": {},
     "output_type": "execute_result"
    },
    {
     "data": {
      "image/png": "[encoded data removed]",
      "text/plain": [
       "<Figure size 432x288 with 1 Axes>"
      ]
     },
     "metadata": {
      "needs_background": "light"
     },
     "output_type": "display_data"
    }
   ],
   "source": [
    "#histogram for minimum frequency coin\n",
    "plt.hist(minCoin,bins=20)"
   ]
  },
  {
   "cell_type": "code",
   "execution_count": null,
   "metadata": {
    "colab": {
     "base_uri": "https://localhost:8080/",
     "height": 282
    },
    "id": "g-hEVuXeP1VN",
    "outputId": "56d313a8-24e3-4841-d3fc-ee1bb4f5e8da"
   },
   "outputs": [
    {
     "data": {
      "text/plain": [
       "<matplotlib.legend.Legend at 0x7f037ea1ded0>"
      ]
     },
     "execution_count": 309,
     "metadata": {},
     "output_type": "execute_result"
    },
    {
     "data": {
      "image/png": "[encoded data removed]",
      "text/plain": [
       "<Figure size 432x288 with 1 Axes>"
      ]
     },
     "metadata": {
      "needs_background": "light"
     },
     "output_type": "display_data"
    }
   ],
   "source": [
    "#c\n",
    "\n",
    "\n",
    "def hoeffBound(epsilon,N):\n",
    "#function to compute the hoeffding bound given epsilon values and numbr of samples N\n",
    "  return 2*np.exp(-2*N*epsilon**2)\n",
    "\n",
    "epsilon=np.linspace(0,1,1000)\n",
    "vals=hoeffBound(epsilon,10)\n",
    "plt.plot(epsilon,vals,'r',label='Hoeffding bound')\n",
    "\n",
    "#subtracting actual frequency\n",
    "firstCoin=firstCoin-0.5\n",
    "randCoin=randCoin-0.5\n",
    "minCoin=minCoin-0.5\n",
    "\n",
    "b1=np.zeros(len(epsilon))\n",
    "brand=np.zeros(len(epsilon))\n",
    "bmin=np.zeros(len(epsilon))\n",
    "#finding the actual number of occurances of the 'bad event'\n",
    "for i in range(len(epsilon)):\n",
    "  eps=epsilon[i]\n",
    "  b1[i]=np.sum(np.abs(firstCoin)>eps)\n",
    "  randCoin[i]=np.sum(np.abs(brand)>eps)\n",
    "  bmin[i]=np.sum(np.abs(minCoin)>eps)\n",
    "\n",
    "#The actual probabilites of a 'bad' event occuring\n",
    "\n",
    "p1=b1/numTrials\n",
    "prand=brand/numTrials\n",
    "pmin=bmin/numTrials\n",
    "\n",
    "plt.plot(epsilon,p1,label='first coin')\n",
    "plt.plot(epsilon,prand,label='random coin')\n",
    "plt.plot(epsilon,pmin,label='minimum coin')\n",
    "plt.legend()"
   ]
  },
  {
   "cell_type": "markdown",
   "metadata": {
    "id": "hJfxiD88wWto"
   },
   "source": [
    "### d. From the plot it's clear that the first coin and radnom coin obey the inequality while the coin with the minimum frequency does not. This follows from the assumption described on pg. 22 of the text that 'h is fixed before you generate the dataset'. For the first and random coins, the choice of coin is independent of the the flips themselves. On the other hand, the minimum frequency coin depends directly on the outcome of the flips which viloates the assumption. \n",
    "### e. Figure 1.10 displays the multiple bins which represent the M hypotheses. The first and random coin correspond to picking 2 bins, the 1st bin and a random one, beofore any marbles are removed. On the other hand, the minimum frequency coin is akin looking at the results from all the bins and picking the one with a certain criteria which in this case is the bin with the minimum frequency."
   ]
  },
  {
   "cell_type": "markdown",
   "metadata": {
    "id": "AGLd2qr9-ekW"
   },
   "source": [
    "## *Pattern Recognition and Machine Learning*\n",
    "\n"
   ]
  },
  {
   "cell_type": "markdown",
   "metadata": {
    "id": "1I22XXJD-1xC"
   },
   "source": [
    "### 1.1\n",
    "\n",
    "###Eq.'s 1.1 and 1.2 are\n",
    "###<center>$y(x,\\vec{w})=∑_{j=0}^{M}w_{j}\\vec{x}^{j}$</center>\n",
    "###<center>$E(\\vec{w})=\\frac{1}{2}∑_{n=1}^{N}[y(x_{n},\\vec{w})-t_{n}]^{2}$</center>\n",
    "### Plugging 1.1 into 1.2 gives \n",
    "### <center>$E(\\vec{w})=\\frac{1}{2}∑_{n=1}^{N}[∑_{j=0}^{M}w_{j}\\vec{x}^{j}-t_{n}]^{2}$</center>\n",
    "### Differentiating with respect to the weight vector $\\vec{w}$ gives \n",
    "<center> $\\frac{∂E(\\vec{w})}{∂\\vec{w}}=∑_{n=1}^{N}(∑_{j=0}^{M}\\vec{w}x_{n}^{j}-t_{n})x_{n}^{i} $</center>\n",
    "\n",
    "### The minimum of the error function occurs at $\\frac{∂E(\\vec{w})}{∂\\vec{w}}=0$, so\n",
    "### <center> $∑_{n=1}^{N}(∑_{j=0}^{M}\\vec{w}x_{n}^{j}-t_{n})x_{n}^{i}=0 $ </center>\n",
    "### <center>$∑_{n=1}^{N}(∑_{j=0}^{M}\\vec{w}x_{n}^{j+i}-t_{n}x_{n}^{i})=0 $</center>\n",
    "### <center> $∑_{n=1}^{N}∑_{j=0}^{M}\\vec{w}x_{n}^{j+i}=∑_{n=1}^{N}t_{n}x_{n}^{i}$ </center>\n",
    "\n",
    "### Allowing $A_{ij}=\\sum_{n=1}^{N}x_{n}^{i+j}$ and $T_{i}=∑_{n=1}^{N}x_{n}^{i}t_{n}$ gives the desired result \n",
    "### <center>$∑_{j=0}^{M}A_{ij}w_{j}=T_{i}$</center>"
   ]
  },
  {
   "cell_type": "markdown",
   "metadata": {
    "id": "fnEj6uk5IaQ_"
   },
   "source": [
    "### 1.5\n",
    "\n",
    "### Eq. 1.38 states that $var[f]$ is given by \n",
    "### <center>$var[f]=E[(f(x)-E[f(x)])^{2}]$</center>\n",
    "### which gives \n",
    "### <center>$var[f]=E[(f(x))^{2}-2f(x)E[f(x)]+E[f(x)]^{2}]$</center>\n",
    "### By exploiting the linearity of the expectation operator and the fact that $E[f(x)]$ is a constant gives\n",
    "### <center>$var[f]=E[f(x)^{2}]-2E[f(x)]^{2}+E[f(x)]^{2}$</center>\n",
    "### <center>$var[f]=E[f(x)^{2}]-E[f(x)]^{2}$</center>\n"
   ]
  },
  {
   "cell_type": "markdown",
   "metadata": {
    "id": "oqUiC3pOMl_u"
   },
   "source": [
    "### 1.6\n",
    "\n",
    "### The covariance of two variable, x and y, is given by\n",
    "### <center>$cov[x,y]=E_{x,y}[xy]-E[x]E[y]$</center>\n",
    "### the expectation of xy is given by \n",
    "### <center>$E_{x,y}=∫∫xy[p(x,y)]dxdy$</center>\n",
    "### however the probability p(x,y) for two independent varialbe is simply p(x,y)=p(x)p(y), so\n",
    "### <center>$E_{x,y}=∫∫xy[p(x)p(y)]dxdy$</center>\n",
    "### <center> $=[∫xp(x)dx][∫yp(y)dy]$</center>\n",
    "### <center> $=E[x]E[y]$</center>\n",
    "### so we have\n",
    "### <center>$cov[x,y]=E_{x,y}[xy]-E[x]E[y]=E[x]E[y]-E[x]E[y]=0$</center>\n"
   ]
  },
  {
   "cell_type": "markdown",
   "metadata": {
    "id": "AiMFAYF-QNan"
   },
   "source": [
    "### 1.9\n",
    "\n",
    "### The single variable Gaussian distribution is given by\n",
    "### <center>$N(x|μ,σ^2)=\\frac{1}{\\sqrt{2\\piσ^2}}e^{-\\frac{1}{2\\sigma^2}(x-μ)^2}$</center>\n",
    "### Taking the derivative with respect to x gives\n",
    "### <center>$\\frac{∂N}{∂x}=\\frac{1}{\\sqrt{2\\piσ^2}}(-\\frac{1}{σ^2}(x-\\mu))e^{-\\frac{1}{2\\sigma^2}(x-μ)^2}$</center>\n",
    "### <center>$=-\\frac{x-μ}{σ^2}N(x|μ,σ^2)$</center>\n",
    "### The max value occurs where $\\frac{∂N}{∂x}=0$,\n",
    "### <center>$-\\frac{x-μ}{σ^2}N(x|μ,σ^2)=0$</center>\n",
    "### the gaussian distribution is zero nowhere, so  $\\frac{∂N}{∂x}=0$ occurs only when $\\frac{x-μ}{\\sigma^2}=0$ which clearly occurs when $x=\\mu$.\n",
    "\n",
    "### The multivariable case is almost identical. The distribution is given by \n",
    "### <center>$N(\\vec{x}|\\vec{μ},𝚺)=\\frac{1}{(2\\pi)^{D/2}}\\frac{1}{|𝚺|^{1/2}}e^{-\\frac{1}{2}(\\vec{x}-\\vec{μ})^T𝚺^{-1}(\\vec{x}-\\vec{μ})}$</center>\n",
    "### The partial derivative with respect to $\\vec{x}$ is \n",
    "### <center>$\\frac{∂N}{∂x}=-\\frac{1}{2}∇[(\\vec{x}-\\vec{μ})^T𝚺^{-1}(\\vec{x}-\\vec{μ})]N(\\vec{x}|\\vec{μ},𝚺)$</center>\n",
    "### <center>$=-𝚺^{-1}(\\vec{x}-\\vec{μ})]N(\\vec{x}|\\vec{μ},𝚺)$</center>\n",
    "### the gaussian distribution is zero nowhere, so  $\\frac{∂N}{∂x}=0$ occurs only when $\\vec{x}-\\vec{μ}=0$ which clearly occurs when $\\vec{x}=\\vec{\\mu}$.\n",
    "\n"
   ]
  },
  {
   "cell_type": "markdown",
   "metadata": {
    "id": "qP5k0qutjYkf"
   },
   "source": [
    "### 1.11\n",
    "\n",
    "### The log liklihood is given by \n",
    "### <center>$ln(p(\\vec{x}|\\mu,\\sigma^2)=-\\frac{1}{2\\sigma^2}∑_{n=1}^{N}(x_n-\\mu)^2-\\frac{N}{2}ln(σ^2)-\\frac{N}{2}ln(2\\pi)$</center>\n",
    "### For $\\mu$:\n",
    "### <center>$\\frac{∂}{∂μ}ln(p(\\vec{x}|\\mu,\\sigma^2)=\\frac{1}{σ^2}∑_{n=1}^{N}(x_n-\\mu)$</center>\n",
    "\n",
    "### $μ_{max}$ is then given by\n",
    "### <center>$\\frac{1}{σ^2}∑_{n=1}^{N}(x_n-\\mu_{max})=0$</center>\n",
    "### <center>$∑_{n=1}^{N}(x_n-\\mu_{max})=0$</center>\n",
    "### <center>$∑_{n=1}^{N}(x_n)-N\\mu_{max}=0$</center>\n",
    "### <center>$\\mu_{max}=\\frac{1}{N}∑_{n=1}^{N}x_n$</center>\n",
    "\n",
    "### For $\\sigma^2$:\n",
    "### <center>$\\frac{∂}{∂\\sigma^2}ln(p(\\vec{x}|\\mu,\\sigma^2)=\\frac{1}{2(σ^2)^2}∑_{n=1}^{N}(x_n-\\mu)^2-\\frac{N}{2\\sigma^2}$</center>\n",
    "### The max value of $\\sigma^2$ is given by\n",
    "### <center> $\\frac{1}{2σ_{max}^4}∑_{n=1}^{N}(x_n-\\mu_{max})^2-\\frac{N}{2\\sigma_{max}^2}=0$</center>\n",
    "### <center>$\\frac{1}{σ_{max}^2}∑_{n=1}^{N}(x_n-\\mu_{max})^2-{N}=0$</center>\n",
    "### <center>${σ_{max}^2}=\\frac{1}{N}∑_{n=1}^{N}(x_n-\\mu_{max})^2$</center>\n",
    "\n"
   ]
  },
  {
   "cell_type": "markdown",
   "metadata": {
    "id": "-01WoVhu-xfs"
   },
   "source": [
    "### 1.12\n",
    "\n",
    "### Eq.'s 1.49 and 1.50 are\n",
    "### <center>$E[x]=∫_{-∞}^{∞}N(x|\\mu,\\sigma^2)xdx=μ$</center>\n",
    "### <center>$E[x^2]=∫_{-∞}^{∞}N(x|\\mu,\\sigma^2)x^2dx=\\mu^2+\\sigma^2$</center>\n",
    "\n",
    "### Clearly when n=m we have $x_nx_m=x_n^2$, so from 1.50 we know $E[x_n^2]=\\mu^2+\\sigma^2$. When $n\\ne m$, eq. 1.49 gives $E[x_nx_m]=\\mu^2$. Putting these two results together yields\n",
    "### <center>$E[x_nx_m]=\\mu^2+I_{nm}\\sigma^2$</center>\n",
    "where $I_{nm}=1$ when n=m and zero otherwise. \n",
    "\n",
    "### Now condsider the expectations of $\\mu_{ML}$ and $\\sigma_{ML}^2$. The first expectation follows directly from eq. 1.49\n",
    "###<center>$E[\\mu_{ML}]=\\mu$</center>\n",
    "###The second requires using eq.'s 1.55 and 1.56\n",
    "### ### <center>$\\mu_{ML}=\\frac{1}{N}∑_{n=1}^{N}x_n$</center>\n",
    "### <center>${σ_{ML}^2}=\\frac{1}{N}∑_{n=1}^{N}(x_n-\\mu_{ML})^2$</center> \n",
    "### which lead us to\n",
    "### <center>$E[\\sigma_{ML}^2]=\\frac{1}{N}E[∑_{n=1}^{N}(x_n-\\frac{1}{N}\\sum_{m=1}^{N}x_m)^2]$</center>\n",
    "### <center>$=\\frac{1}{N}\\sum_{n=1}^{N}E[x_n^2-\\frac{2}{N}x_n\\sum_{m=1}^{N}x_m+\\frac{1}{N^2}\\sum_{m=1}^{N}\\sum_{l=1}^{N}x_mx_l]$</center>\n",
    "### <center>$=[\\mu^2+\\sigma^2-2(\\mu^2+\\frac{1}{N}\\sigma^2)+\\mu^2+\\frac{1}{N}\\sigma^2]$</center>\n",
    "### <center>$=(\\frac{N-1}{N})\\sigma^2$</center>\n",
    "### which is the desired result."
   ]
  },
  {
   "cell_type": "code",
   "execution_count": null,
   "metadata": {
    "id": "-J6-ozeCIT8Q"
   },
   "outputs": [],
   "source": []
  }
 ],
 "metadata": {
  "colab": {
   "collapsed_sections": [],
   "name": "PS1.BAYER.ZANE.ipynb",
   "provenance": []
  },
  "kernelspec": {
   "display_name": "Python 3",
   "language": "python",
   "name": "python3"
  },
  "language_info": {
   "codemirror_mode": {
    "name": "ipython",
    "version": 3
   },
   "file_extension": ".py",
   "mimetype": "text/x-python",
   "name": "python",
   "nbconvert_exporter": "python",
   "pygments_lexer": "ipython3",
   "version": "3.9.5"
  }
 },
 "nbformat": 4,
 "nbformat_minor": 1
}
